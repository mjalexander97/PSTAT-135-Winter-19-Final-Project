{
 "cells": [
  {
   "cell_type": "code",
   "execution_count": 1,
   "metadata": {},
   "outputs": [],
   "source": [
    "from pyspark import SparkContext\n",
    "from pyspark.sql import SQLContext\n",
    "from pyspark.sql import Row\n",
    "from pyspark.sql.types import *       # for datatype conversion\n",
    "from pyspark.sql.functions import *   # for col() function\n",
    "import pandas as pd\n",
    "from pyspark.sql import SparkSession\n",
    "from pyspark.ml.feature import StopWordsRemover\n",
    "from pyspark.ml.feature import Tokenizer\n",
    "import re\n",
    "import pyspark.sql.functions as f\n",
    "from pyspark.ml.feature import HashingTF, IDF, Tokenizer\n",
    "from numpy import array\n",
    "from math import sqrt\n",
    "from pyspark.ml.clustering import KMeans\n",
    "from pyspark.ml.classification import LogisticRegression\n",
    "from pyspark.sql.types import DoubleType\n",
    "from pyspark.ml.feature import StringIndexer\n",
    "from pyspark.ml.classification import NaiveBayes\n",
    "from pyspark.ml.evaluation import MulticlassClassificationEvaluator\n",
    "from pyspark.ml.feature import NGram\n",
    "from pyspark.ml.feature import MaxAbsScaler\n",
    "from pyspark.ml.linalg import Vectors\n",
    "from pyspark.ml import Pipeline\n",
    "from pyspark.ml.tuning import CrossValidator, ParamGridBuilder\n",
    "import numpy as np\n",
    "import matplotlib.pyplot as plt\n",
    "from pyspark.ml.clustering import BisectingKMeans\n",
    "\n",
    "sc = SparkContext.getOrCreate()\n",
    "sqlCtx = SQLContext(sc)\n",
    "\n",
    "spark = SparkSession \\\n",
    "    .builder \\\n",
    "    .master(\"local\") \\\n",
    "    .appName(\"Jeopardy Calculation\") \\\n",
    "    .config(\"spark.executor.memory\", '2g') \\\n",
    "    .config('spark.executor.cores', '1') \\\n",
    "    .config('spark.cores.max', '1') \\\n",
    "    .config(\"spark.driver.memory\",'1g') \\\n",
    "    .getOrCreate()\n",
    "\n",
    "from nltk.stem.porter import *\n",
    "stemmer = PorterStemmer()\n",
    "def stem(in_vec):\n",
    "    out_vec = []\n",
    "    for t in in_vec:\n",
    "        t_stem = stemmer.stem(t)\n",
    "        out_vec.append(t_stem)       \n",
    "    return out_vec\n",
    "from pyspark.sql.types import *\n",
    "stemmer_udf = udf(lambda x: stem(x), ArrayType(StringType()))"
   ]
  },
  {
   "cell_type": "code",
   "execution_count": 2,
   "metadata": {},
   "outputs": [],
   "source": [
    "#reading in the jeopardy data set\n",
    "jeopardy = spark.read.json(\"JEOPARDY_QUESTIONS1-Copy1.json\")\n",
    "j_categoryCount = jeopardy.groupBy(\"category\").count()\n",
    "#This is the number of categories in the dataset which have greater than 100 observations\n",
    "count100 = j_categoryCount.sort(desc(\"count\")).filter(j_categoryCount[\"count\"] > 100).count()\n",
    "#This is a list of all categories which have a count greater than 100\n",
    "top_categories = list(j_categoryCount.sort(desc(\"count\")).select(\"category\").limit(count100).toPandas().category)\n",
    "#new dataset that only contains categories that have greater than 100 osbervations\n",
    "jeo_f = jeopardy.where(col(\"category\").isin(top_categories))"
   ]
  },
  {
   "cell_type": "code",
   "execution_count": 3,
   "metadata": {},
   "outputs": [
    {
     "data": {
      "text/plain": [
       "DataFrame[air_date: string, answer: string, category: string, question: string, round: string, show_number: string, value: string, stripped: string, words: array<string>, filtered: array<string>, stemmed: array<string>]"
      ]
     },
     "execution_count": 3,
     "metadata": {},
     "output_type": "execute_result"
    }
   ],
   "source": [
    "#stripping punctuation, tokenizing, stop word removing, and stemming for the modified dataset\n",
    "jeo_fpunc = jeo_f.withColumn(\"stripped\", f.regexp_replace(f.col(\"question\"), \"[\\!@#$%^&*)(><,';:]\", \"\"))\n",
    "jeo_fpunc.cache()\n",
    "tokenizer = Tokenizer(inputCol = \"stripped\", outputCol = \"words\")\n",
    "tokenized_f = tokenizer.transform(jeo_fpunc)\n",
    "tokenized_f.cache()\n",
    "remover = StopWordsRemover(inputCol=\"words\", outputCol=\"filtered\")\n",
    "jeo_fStopRemoved = remover.transform(tokenized_f)\n",
    "jeo_fStopRemoved.cache()\n",
    "jeo_fStemmed = jeo_fStopRemoved.withColumn(\"stemmed\", stemmer_udf(\"filtered\"))\n",
    "jeo_fStemmed.cache()\n"
   ]
  },
  {
   "cell_type": "code",
   "execution_count": 5,
   "metadata": {},
   "outputs": [
    {
     "data": {
      "text/plain": [
       "DataFrame[air_date: string, answer: string, category: string, question: string, round: string, show_number: string, value: string, stripped: string, words: array<string>, filtered: array<string>, stemmed: array<string>, rawFeatures: vector, features: vector]"
      ]
     },
     "execution_count": 5,
     "metadata": {},
     "output_type": "execute_result"
    }
   ],
   "source": [
    "hashingTF = HashingTF(inputCol=\"stemmed\", outputCol=\"rawFeatures\", numFeatures=50000)\n",
    "featurizedData = hashingTF.transform(jeo_fStemmed)\n",
    "idf = IDF(inputCol=\"rawFeatures\", outputCol=\"features\")\n",
    "idfModel = idf.fit(featurizedData)\n",
    "rescaledData = idfModel.transform(featurizedData)\n",
    "rescaledData.cache()"
   ]
  },
  {
   "cell_type": "code",
   "execution_count": 6,
   "metadata": {},
   "outputs": [],
   "source": [
    "#training,test split for modified dataset\n",
    "training,test = rescaledData.randomSplit([0.8,0.2], seed = 1) "
   ]
  },
  {
   "cell_type": "code",
   "execution_count": 7,
   "metadata": {},
   "outputs": [
    {
     "data": {
      "text/plain": [
       "DataFrame[air_date: string, answer: string, category: string, question: string, round: string, show_number: string, value: string, stripped: string, words: array<string>, filtered: array<string>, stemmed: array<string>, rawFeatures: vector, features: vector, prediction: int]"
      ]
     },
     "execution_count": 7,
     "metadata": {},
     "output_type": "execute_result"
    }
   ],
   "source": [
    "bkm = BisectingKMeans().setK(145).setSeed(1)\n",
    "model = bkm.fit(training)\n",
    "bkmpredict = model.transform(test)\n",
    "bkmpredict.cache()"
   ]
  },
  {
   "cell_type": "code",
   "execution_count": 8,
   "metadata": {},
   "outputs": [
    {
     "name": "stdout",
     "output_type": "stream",
     "text": [
      "+----------+-----+\n",
      "|prediction|count|\n",
      "+----------+-----+\n",
      "|       144|    1|\n",
      "|       138|    1|\n",
      "|       137|    4|\n",
      "|       133|    4|\n",
      "|       130|    5|\n",
      "|       129|    7|\n",
      "|       127|    6|\n",
      "|       125|    2|\n",
      "|       122|    1|\n",
      "|       121|    8|\n",
      "|       120|    2|\n",
      "|       119|    1|\n",
      "|       118|    6|\n",
      "|       117|    5|\n",
      "|       115|    5|\n",
      "|       114|    4|\n",
      "|       113|    5|\n",
      "|       112|    1|\n",
      "|       111|   10|\n",
      "|       110|   13|\n",
      "|       109|   33|\n",
      "|       108|    4|\n",
      "|       107|    8|\n",
      "|       106|    6|\n",
      "|       105|   12|\n",
      "|       104|    3|\n",
      "|       103|   16|\n",
      "|       102|    4|\n",
      "|       101|    7|\n",
      "|       100|    9|\n",
      "|        99|   35|\n",
      "|        98|   28|\n",
      "|        97|   69|\n",
      "|        96|   13|\n",
      "|        95|   18|\n",
      "|        94|   42|\n",
      "|        93|   77|\n",
      "|        92|    2|\n",
      "|        91|    3|\n",
      "|        90|    8|\n",
      "|        89|   49|\n",
      "|        88|   35|\n",
      "|        87|   98|\n",
      "|        86|   50|\n",
      "|        85|   38|\n",
      "|        84|   57|\n",
      "|        83|  111|\n",
      "|        82|   56|\n",
      "|        81|  252|\n",
      "|        80|   61|\n",
      "|        79|   36|\n",
      "|        78|   84|\n",
      "|        77|   89|\n",
      "|        76|   32|\n",
      "|        75|   55|\n",
      "|        74|   17|\n",
      "|        73|   61|\n",
      "|        72|   66|\n",
      "|        71|   76|\n",
      "|        70|   60|\n",
      "|        69|   84|\n",
      "|        68|    7|\n",
      "|        67|   16|\n",
      "|        66|    5|\n",
      "|        65|   31|\n",
      "|        64|   40|\n",
      "|        63|   88|\n",
      "|        62|   34|\n",
      "|        61|    9|\n",
      "|        60|  108|\n",
      "|        59|   36|\n",
      "|        58|   45|\n",
      "|        57|  159|\n",
      "|        56|   37|\n",
      "|        55|   67|\n",
      "|        54|   87|\n",
      "|        53|  195|\n",
      "|        52|   25|\n",
      "|        51|   36|\n",
      "|        50|   58|\n",
      "|        49|   52|\n",
      "|        48|   54|\n",
      "|        47|   55|\n",
      "|        46|   49|\n",
      "|        45|   24|\n",
      "|        44|  106|\n",
      "|        43|  107|\n",
      "|        42|   92|\n",
      "|        41|   71|\n",
      "|        40|   72|\n",
      "|        39|   76|\n",
      "|        38|   62|\n",
      "|        37|   29|\n",
      "|        36|   56|\n",
      "|        35|  368|\n",
      "|        34|  363|\n",
      "|        33|   25|\n",
      "|        32|   29|\n",
      "|        31|   50|\n",
      "|        30|   92|\n",
      "|        29|    1|\n",
      "|        28|    2|\n",
      "|        27|    1|\n",
      "|        26|   22|\n",
      "|        25|   12|\n",
      "|        24|    5|\n",
      "|        23|    5|\n",
      "|        22|   16|\n",
      "|        21|   13|\n",
      "|        20|    8|\n",
      "|        19|    2|\n",
      "|        18|   25|\n",
      "|        17|   15|\n",
      "|        16|   22|\n",
      "|        15|   19|\n",
      "|        14|   64|\n",
      "|        13|   39|\n",
      "|        12|   60|\n",
      "|        11|   64|\n",
      "|        10|  123|\n",
      "|         9|   30|\n",
      "|         8|   12|\n",
      "|         7|   42|\n",
      "|         6|   87|\n",
      "|         5|   55|\n",
      "|         4|  112|\n",
      "|         3|   20|\n",
      "|         2|   82|\n",
      "|         1|    9|\n",
      "|         0|   41|\n",
      "+----------+-----+\n",
      "\n"
     ]
    }
   ],
   "source": [
    "bkmpredict.groupBy('prediction').count().sort(desc(\"prediction\")).show(145)"
   ]
  },
  {
   "cell_type": "code",
   "execution_count": 9,
   "metadata": {},
   "outputs": [
    {
     "name": "stdout",
     "output_type": "stream",
     "text": [
      "+---------------+------------------------------------------------------------------------------------------------------+\n",
      "|category       |question                                                                                              |\n",
      "+---------------+------------------------------------------------------------------------------------------------------+\n",
      "|ISLANDS        |'While Hawaii is our only island state, Tasmania is this country's only island state'                 |\n",
      "|ISLANDS        |'Only independent island nation in the Persian Gulf'                                                  |\n",
      "|POTENT POTABLES|'Taxes on this liquor are reported to provide 17% of the U.S. Virgin Islands gov't budget'            |\n",
      "|WORLD GEOGRAPHY|'Avarua is the capital of these Pacific islands, which were named for an English captain'             |\n",
      "|U.S.A.         |'Smurfs frolic on Smurf Island at Carowinds, an amusement park on the border of these 2 states'       |\n",
      "|ISLANDS        |'These Ecuadorian islands are known officially as the Columbus Archipelago'                           |\n",
      "|U.S. STATES    |'The Bimini Islands of the Bahamas lie about 50 miles east of this state'                             |\n",
      "|VOCABULARY     |'A word used for any lighthouse, from the island where a famous ancient one was located'              |\n",
      "|ISLANDS        |'Between 1921-51 the Cubs held spring training on this island owned by Wrigley near L.A.'             |\n",
      "|ISLANDS        |'Royale, Joseph, and Devil's Islands make up the Safety Islands owned by this country'                |\n",
      "|ISLANDS        |'Though they sound Egyptian, these islands in the N. Atlantic are part of Denmark'                    |\n",
      "|ISLANDS        |'The Court of Tynwald is the chief legislative body of this island in the Irish Sea'                  |\n",
      "|ISLANDS        |'This Indonesian island became world famous after giant lizards were discovered there in 1912'        |\n",
      "|WORLD HISTORY  |'After oil was found there in 1932, this island nation became the Persian Gulf's first oil-rich state'|\n",
      "|WORLD CITIES   |'It's the world capital located on the island of Java'                                                |\n",
      "|ISLANDS        |'Quebec's Anticosti Island, at the mouth of this river, is the site of a provincial park'             |\n",
      "|ISLANDS        |'The Sultanate of Brunei is located on the northern coast of this island in the East Indies'          |\n",
      "|ISLANDS        |'Rainfall on this island that's home to Haiti averages 55 inches per year'                            |\n",
      "|WORLD GEOGRAPHY|'Foveaux Strait separates Stewart Island from this country's South Island'                            |\n",
      "|WORLD CITIES   |'This Italian Adriatic seaport is situated on 118 islands formed by about 180 canals'                 |\n",
      "+---------------+------------------------------------------------------------------------------------------------------+\n",
      "only showing top 20 rows\n",
      "\n"
     ]
    }
   ],
   "source": [
    "bkmpredict.filter(bkmpredict[\"prediction\"] == 2).select(\"category\",\"question\").show(truncate=False)"
   ]
  }
 ],
 "metadata": {
  "kernelspec": {
   "display_name": "Python 3",
   "language": "python",
   "name": "python3"
  },
  "language_info": {
   "codemirror_mode": {
    "name": "ipython",
    "version": 3
   },
   "file_extension": ".py",
   "mimetype": "text/x-python",
   "name": "python",
   "nbconvert_exporter": "python",
   "pygments_lexer": "ipython3",
   "version": "3.6.8"
  }
 },
 "nbformat": 4,
 "nbformat_minor": 2
}
