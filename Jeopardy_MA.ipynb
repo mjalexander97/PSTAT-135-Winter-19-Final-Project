{
 "cells": [
  {
   "cell_type": "code",
   "execution_count": 1,
   "metadata": {},
   "outputs": [],
   "source": [
    "from pyspark import SparkContext\n",
    "from pyspark.sql import SQLContext\n",
    "from pyspark.sql import Row\n",
    "from pyspark.sql.types import *       # for datatype conversion\n",
    "from pyspark.sql.functions import *   # for col() function\n",
    "import pandas as pd\n",
    "from pyspark.sql import SparkSession\n",
    "from pyspark.ml.feature import StopWordsRemover\n",
    "from pyspark.ml.feature import Tokenizer\n",
    "import re\n",
    "import pyspark.sql.functions as f\n",
    "from pyspark.ml.feature import HashingTF, IDF, Tokenizer\n",
    "\n",
    "sc = SparkContext.getOrCreate()\n",
    "sqlCtx = SQLContext(sc)\n",
    "\n",
    "spark = SparkSession \\\n",
    "    .builder \\\n",
    "    .master(\"local\") \\\n",
    "    .appName(\"Jeopardy Calculation\") \\\n",
    "    .config(\"spark.executor.memory\", '2g') \\\n",
    "    .config('spark.executor.cores', '1') \\\n",
    "    .config('spark.cores.max', '1') \\\n",
    "    .config(\"spark.driver.memory\",'1g') \\\n",
    "    .getOrCreate()\n",
    "\n",
    "jeopardy = spark.read.json('data/JEOPARDY_QUESTIONS1.json')"
   ]
  },
  {
   "cell_type": "code",
   "execution_count": 2,
   "metadata": {},
   "outputs": [
    {
     "data": {
      "text/plain": [
       "['air_date', 'answer', 'category', 'question', 'round', 'show_number', 'value']"
      ]
     },
     "execution_count": 2,
     "metadata": {},
     "output_type": "execute_result"
    }
   ],
   "source": [
    "jeopardy.columns"
   ]
  },
  {
   "cell_type": "code",
   "execution_count": 3,
   "metadata": {},
   "outputs": [],
   "source": [
    "jeopardy = jeopardy.withColumn(\"stripped\", f.regexp_replace(f.col(\"question\"), \"[\\!@#$%^&*)(><,';:]\", \"\"))\n",
    "tokenizer = Tokenizer(inputCol = \"stripped\", outputCol = \"words\")\n",
    "tokenized = tokenizer.transform(jeopardy)\n",
    "remover = StopWordsRemover(inputCol=\"words\", outputCol=\"filtered\")\n",
    "#remover.transform(tokenized).show(truncate=False)\n",
    "jeopardyStopRemoved = remover.transform(tokenized)\n",
    "\n",
    "\n",
    "from nltk.stem.porter import *\n",
    "stemmer = PorterStemmer()\n",
    "\n",
    "\n",
    "def stem(in_vec):\n",
    "    out_vec = []\n",
    "    for t in in_vec:\n",
    "        t_stem = stemmer.stem(t)\n",
    "        out_vec.append(t_stem)       \n",
    "    return out_vec\n",
    "\n",
    "from pyspark.sql.types import *\n",
    "stemmer_udf = udf(lambda x: stem(x), ArrayType(StringType()))\n",
    "\n",
    "\n",
    "jeopardy_processed = jeopardyStopRemoved.withColumn(\"stemmed\", stemmer_udf(\"filtered\"))"
   ]
  },
  {
   "cell_type": "code",
   "execution_count": 4,
   "metadata": {},
   "outputs": [],
   "source": [
    "jeopardy_stemmed = jeopardy_processed.select(\"stemmed\").rdd\n",
    "jeopardy_words = jeopardy_stemmed.flatMap(lambda r: r)"
   ]
  },
  {
   "cell_type": "code",
   "execution_count": 5,
   "metadata": {},
   "outputs": [],
   "source": [
    "from pyspark.mllib.linalg import Vectors\n",
    "from pyspark.mllib.linalg.distributed import RowMatrix\n"
   ]
  },
  {
   "cell_type": "code",
   "execution_count": 6,
   "metadata": {},
   "outputs": [
    {
     "ename": "NameError",
     "evalue": "name 'jeo' is not defined",
     "output_type": "error",
     "traceback": [
      "\u001b[0;31m---------------------------------------------------------------------------\u001b[0m",
      "\u001b[0;31mNameError\u001b[0m                                 Traceback (most recent call last)",
      "\u001b[0;32m<ipython-input-6-9f11eea6ca41>\u001b[0m in \u001b[0;36m<module>\u001b[0;34m\u001b[0m\n\u001b[0;32m----> 1\u001b[0;31m \u001b[0mjeopardyStopRemoved\u001b[0m\u001b[0;34m.\u001b[0m\u001b[0mfilter\u001b[0m\u001b[0;34m(\u001b[0m\u001b[0mjeo\u001b[0m\u001b[0;34m)\u001b[0m\u001b[0;34m\u001b[0m\u001b[0;34m\u001b[0m\u001b[0m\n\u001b[0m",
      "\u001b[0;31mNameError\u001b[0m: name 'jeo' is not defined"
     ]
    }
   ],
   "source": [
    "jeopardyStopRemoved.filter(jeo)"
   ]
  },
  {
   "cell_type": "code",
   "execution_count": 24,
   "metadata": {},
   "outputs": [
    {
     "data": {
      "text/plain": [
       "[Row(category='BEFORE & AFTER'),\n",
       " Row(category='SCIENCE'),\n",
       " Row(category='LITERATURE'),\n",
       " Row(category='AMERICAN HISTORY'),\n",
       " Row(category='POTPOURRI'),\n",
       " Row(category='WORLD HISTORY'),\n",
       " Row(category='WORD ORIGINS'),\n",
       " Row(category='COLLEGES & UNIVERSITIES'),\n",
       " Row(category='HISTORY'),\n",
       " Row(category='SPORTS'),\n",
       " Row(category='U.S. CITIES'),\n",
       " Row(category='WORLD GEOGRAPHY'),\n",
       " Row(category='BODIES OF WATER'),\n",
       " Row(category='ANIMALS'),\n",
       " Row(category='STATE CAPITALS'),\n",
       " Row(category='BUSINESS & INDUSTRY'),\n",
       " Row(category='ISLANDS'),\n",
       " Row(category='WORLD CAPITALS'),\n",
       " Row(category='U.S. GEOGRAPHY'),\n",
       " Row(category='RELIGION')]"
      ]
     },
     "execution_count": 24,
     "metadata": {},
     "output_type": "execute_result"
    }
   ],
   "source": [
    "#j_categoryCount = jeopardy.groupBy(\"category\").count()\n",
    "#j_categoryCount.sort(desc(\"count\")).select(\"category\").show(20)\n",
    "j_categoryCount.sort(desc(\"count\")).select(\"category\").take(20)"
   ]
  },
  {
   "cell_type": "code",
   "execution_count": 50,
   "metadata": {},
   "outputs": [
    {
     "data": {
      "text/plain": [
       "['BEFORE & AFTER',\n",
       " 'SCIENCE',\n",
       " 'LITERATURE',\n",
       " 'AMERICAN HISTORY',\n",
       " 'POTPOURRI',\n",
       " 'WORLD HISTORY',\n",
       " 'WORD ORIGINS',\n",
       " 'COLLEGES & UNIVERSITIES',\n",
       " 'HISTORY',\n",
       " 'SPORTS',\n",
       " 'U.S. CITIES',\n",
       " 'WORLD GEOGRAPHY',\n",
       " 'BODIES OF WATER',\n",
       " 'ANIMALS',\n",
       " 'STATE CAPITALS',\n",
       " 'BUSINESS & INDUSTRY',\n",
       " 'ISLANDS',\n",
       " 'WORLD CAPITALS',\n",
       " 'U.S. GEOGRAPHY',\n",
       " 'RELIGION']"
      ]
     },
     "execution_count": 50,
     "metadata": {},
     "output_type": "execute_result"
    }
   ],
   "source": [
    "top_categories = list(j_categoryCount.sort(desc(\"count\")).select(\"category\").limit(20).toPandas().category)\n",
    "top_categories"
   ]
  },
  {
   "cell_type": "code",
   "execution_count": 54,
   "metadata": {},
   "outputs": [
    {
     "name": "stdout",
     "output_type": "stream",
     "text": [
      "+----------+--------------------+--------+--------------------+---------+-----------+-----+--------------------+\n",
      "|  air_date|              answer|category|            question|    round|show_number|value|            stripped|\n",
      "+----------+--------------------+--------+--------------------+---------+-----------+-----+--------------------+\n",
      "|2004-12-31|          Copernicus| HISTORY|'For the last 8 y...|Jeopardy!|       4680| $200|For the last 8 ye...|\n",
      "|2004-12-31|      the Appian Way| HISTORY|'Built in 312 B.C...|Jeopardy!|       4680| $400|Built in 312 B.C....|\n",
      "|2004-12-31|Ceylon (or Sri La...| HISTORY|'In 1000 Rajaraja...|Jeopardy!|       4680| $600|In 1000 Rajaraja ...|\n",
      "|2004-12-31|   the International| HISTORY|'Karl led the fir...|Jeopardy!|       4680| $800|Karl led the firs...|\n",
      "|2004-12-31|  the Congress Party| HISTORY|'This Asian polit...|Jeopardy!|       4680|$1000|This Asian politi...|\n",
      "+----------+--------------------+--------+--------------------+---------+-----------+-----+--------------------+\n",
      "only showing top 5 rows\n",
      "\n"
     ]
    }
   ],
   "source": [
    "jeo_f = jeopardy.where(col(\"category\").isin(top_categories))\n",
    "jeo_f.show(5)"
   ]
  },
  {
   "cell_type": "code",
   "execution_count": 8,
   "metadata": {},
   "outputs": [
    {
     "data": {
      "text/plain": [
       "332"
      ]
     },
     "execution_count": 8,
     "metadata": {},
     "output_type": "execute_result"
    }
   ],
   "source": [
    "j_categoryCount = jeopardy.groupBy(\"category\").count()\n",
    "j_categoryCount.sort(desc(\"count\")).filter(j_categoryCount[\"count\"] > 50).count()"
   ]
  },
  {
   "cell_type": "code",
   "execution_count": null,
   "metadata": {},
   "outputs": [],
   "source": [
    "j50counts = j_categoryCount.filter(j_categoryCount[\"count\"] > 50)"
   ]
  },
  {
   "cell_type": "code",
   "execution_count": null,
   "metadata": {},
   "outputs": [],
   "source": [
    "type(j50counts)"
   ]
  },
  {
   "cell_type": "code",
   "execution_count": null,
   "metadata": {},
   "outputs": [],
   "source": [
    "type(jeopardy)"
   ]
  },
  {
   "cell_type": "code",
   "execution_count": null,
   "metadata": {},
   "outputs": [],
   "source": [
    "j50counts.select(\"category\").show()"
   ]
  },
  {
   "cell_type": "code",
   "execution_count": null,
   "metadata": {},
   "outputs": [],
   "source": [
    "test = [\"LIBRARIES\", \"ACTRESSES\", \"THE 50 STATES\"]"
   ]
  },
  {
   "cell_type": "code",
   "execution_count": null,
   "metadata": {},
   "outputs": [],
   "source": [
    "jeopardywhatever.take(2)"
   ]
  },
  {
   "cell_type": "code",
   "execution_count": null,
   "metadata": {},
   "outputs": [],
   "source": [
    "jeopardycategories = jeopardy.groupby(\"category\").count().show(1)\n",
    "\n",
    "\n",
    "#.filter(lambda x : x['category'].count() > 20)"
   ]
  },
  {
   "cell_type": "code",
   "execution_count": null,
   "metadata": {},
   "outputs": [],
   "source": [
    "jeopardy.select(\"category\").show(10)"
   ]
  },
  {
   "cell_type": "code",
   "execution_count": null,
   "metadata": {},
   "outputs": [],
   "source": [
    "jeopardy.filter(lambda r: r).show()"
   ]
  },
  {
   "cell_type": "code",
   "execution_count": null,
   "metadata": {},
   "outputs": [],
   "source": []
  },
  {
   "cell_type": "code",
   "execution_count": null,
   "metadata": {},
   "outputs": [],
   "source": []
  }
 ],
 "metadata": {
  "kernelspec": {
   "display_name": "Python 3",
   "language": "python",
   "name": "python3"
  },
  "language_info": {
   "codemirror_mode": {
    "name": "ipython",
    "version": 3
   },
   "file_extension": ".py",
   "mimetype": "text/x-python",
   "name": "python",
   "nbconvert_exporter": "python",
   "pygments_lexer": "ipython3",
   "version": "3.6.8"
  }
 },
 "nbformat": 4,
 "nbformat_minor": 2
}
