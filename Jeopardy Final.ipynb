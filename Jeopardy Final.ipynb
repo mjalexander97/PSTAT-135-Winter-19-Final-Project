{
 "cells": [
  {
   "cell_type": "markdown",
   "metadata": {},
   "source": [
    "# 1. Data import and pre processing."
   ]
  },
  {
   "cell_type": "markdown",
   "metadata": {},
   "source": [
    "Create the Spark Environment and read in the data set."
   ]
  },
  {
   "cell_type": "code",
   "execution_count": 42,
   "metadata": {},
   "outputs": [],
   "source": [
    "from pyspark import SparkContext\n",
    "from pyspark.sql import SQLContext\n",
    "from pyspark.sql import Row\n",
    "from pyspark.sql.types import *       # for datatype conversion\n",
    "from pyspark.sql.functions import *   # for col() function\n",
    "import pandas as pd\n",
    "from pyspark.sql import SparkSession\n",
    "from pyspark.ml.feature import StopWordsRemover\n",
    "from pyspark.ml.feature import Tokenizer\n",
    "import re\n",
    "import pyspark.sql.functions as f\n",
    "from pyspark.ml.feature import HashingTF, IDF, Tokenizer\n",
    "from numpy import array\n",
    "from math import sqrt\n",
    "from pyspark.ml.clustering import KMeans\n",
    "from pyspark.ml.feature import OneHotEncoder, StringIndexer\n",
    "from pyspark.ml.feature import HashingTF, IDF, Tokenizer\n",
    "from pyspark.ml.classification import LogisticRegression\n",
    "from pyspark.sql.types import DoubleType\n",
    "from pyspark.ml.feature import StringIndexer\n",
    "\n",
    "sc = SparkContext.getOrCreate()\n",
    "sqlCtx = SQLContext(sc)\n",
    "\n",
    "spark = SparkSession \\\n",
    "    .builder \\\n",
    "    .master(\"local\") \\\n",
    "    .appName(\"Jeopardy Calculation\") \\\n",
    "    .config(\"spark.executor.memory\", '2g') \\\n",
    "    .config('spark.executor.cores', '1') \\\n",
    "    .config('spark.cores.max', '1') \\\n",
    "    .config(\"spark.driver.memory\",'1g') \\\n",
    "    .getOrCreate()\n",
    "\n",
    "jeopardy = spark.read.json('data/JEOPARDY_QUESTIONS1.json')"
   ]
  },
  {
   "cell_type": "code",
   "execution_count": 18,
   "metadata": {},
   "outputs": [
    {
     "name": "stdout",
     "output_type": "stream",
     "text": [
      "+----------+--------------------+--------------------+--------------------+---------+-----------+-----+\n",
      "|  air_date|              answer|            category|            question|    round|show_number|value|\n",
      "+----------+--------------------+--------------------+--------------------+---------+-----------+-----+\n",
      "|2004-12-31|          Copernicus|             HISTORY|'For the last 8 y...|Jeopardy!|       4680| $200|\n",
      "|2004-12-31|          Jim Thorpe|ESPN's TOP 10 ALL...|'No. 2: 1912 Olym...|Jeopardy!|       4680| $200|\n",
      "|2004-12-31|             Arizona|EVERYBODY TALKS A...|'The city of Yuma...|Jeopardy!|       4680| $200|\n",
      "|2004-12-31|         McDonald\\'s|    THE COMPANY LINE|'In 1963, live on...|Jeopardy!|       4680| $200|\n",
      "|2004-12-31|          John Adams| EPITAPHS & TRIBUTES|'Signer of the De...|Jeopardy!|       4680| $200|\n",
      "|2004-12-31|             the ant|      3-LETTER WORDS|'In the title of ...|Jeopardy!|       4680| $200|\n",
      "|2004-12-31|      the Appian Way|             HISTORY|'Built in 312 B.C...|Jeopardy!|       4680| $400|\n",
      "|2004-12-31|      Michael Jordan|ESPN's TOP 10 ALL...|'No. 8: 30 steals...|Jeopardy!|       4680| $400|\n",
      "|2004-12-31|          Washington|EVERYBODY TALKS A...|'In the winter of...|Jeopardy!|       4680| $400|\n",
      "|2004-12-31|      Crate & Barrel|    THE COMPANY LINE|'This housewares ...|Jeopardy!|       4680| $400|\n",
      "|2004-12-31|      Jackie Gleason| EPITAPHS & TRIBUTES|  '\"And away we go\"'|Jeopardy!|       4680| $400|\n",
      "|2004-12-31|             the cud|      3-LETTER WORDS|'Cows regurgitate...|Jeopardy!|       4680| $400|\n",
      "|2004-12-31|Ceylon (or Sri La...|             HISTORY|'In 1000 Rajaraja...|Jeopardy!|       4680| $600|\n",
      "|2004-12-31|           Jim Brown|ESPN's TOP 10 ALL...|'No. 1: Lettered ...|Jeopardy!|       4680| $600|\n",
      "|2004-12-31|        the UV index|EVERYBODY TALKS A...|'On June 28, 1994...|Jeopardy!|       4680| $600|\n",
      "|2004-12-31|              Bulova|    THE COMPANY LINE|'This company's A...|Jeopardy!|       4680| $600|\n",
      "|2004-12-31|         Jesse James| EPITAPHS & TRIBUTES|'Outlaw: \"Murdere...|Jeopardy!|       4680| $600|\n",
      "|2004-12-31|                 imp|      3-LETTER WORDS|'A small demon, o...|Jeopardy!|       4680| $600|\n",
      "|2004-12-31|   the International|             HISTORY|'Karl led the fir...|Jeopardy!|       4680| $800|\n",
      "|2004-12-31|        (Lou) Gehrig|ESPN's TOP 10 ALL...|'No. 10: FB/LB fo...|Jeopardy!|       4680| $800|\n",
      "+----------+--------------------+--------------------+--------------------+---------+-----------+-----+\n",
      "only showing top 20 rows\n",
      "\n"
     ]
    }
   ],
   "source": [
    "jeopardy.show(20)"
   ]
  },
  {
   "cell_type": "markdown",
   "metadata": {},
   "source": [
    "First we wanted to observe how many observations were in each category."
   ]
  },
  {
   "cell_type": "code",
   "execution_count": 14,
   "metadata": {},
   "outputs": [
    {
     "data": {
      "text/plain": [
       "['air_date', 'answer', 'category', 'question', 'round', 'show_number', 'value']"
      ]
     },
     "execution_count": 14,
     "metadata": {},
     "output_type": "execute_result"
    }
   ],
   "source": [
    "jeopardy.columns"
   ]
  },
  {
   "cell_type": "code",
   "execution_count": 16,
   "metadata": {},
   "outputs": [
    {
     "name": "stdout",
     "output_type": "stream",
     "text": [
      "+----------------+-----+\n",
      "|        category|count|\n",
      "+----------------+-----+\n",
      "|  BEFORE & AFTER|  547|\n",
      "|         SCIENCE|  519|\n",
      "|      LITERATURE|  496|\n",
      "|AMERICAN HISTORY|  418|\n",
      "|       POTPOURRI|  401|\n",
      "+----------------+-----+\n",
      "only showing top 5 rows\n",
      "\n"
     ]
    }
   ],
   "source": [
    "j_categoryCount = jeopardy.groupBy(\"category\").count()\n",
    "j_categoryCount.sort(desc(\"count\")).show(5)"
   ]
  },
  {
   "cell_type": "code",
   "execution_count": 20,
   "metadata": {},
   "outputs": [
    {
     "data": {
      "text/plain": [
       "27995"
      ]
     },
     "execution_count": 20,
     "metadata": {},
     "output_type": "execute_result"
    }
   ],
   "source": [
    "j_categoryCount.count()"
   ]
  },
  {
   "cell_type": "markdown",
   "metadata": {},
   "source": [
    "The most populated categories are each approximately 0.21% of the original data set, which is extremely sparse, especially given that there are roughly 28,000 distinct categories. \n",
    "Therefore, instead of constructing models for the entire data set, we will filter out categories with less than 100 observations."
   ]
  },
  {
   "cell_type": "code",
   "execution_count": 28,
   "metadata": {},
   "outputs": [
    {
     "data": {
      "text/plain": [
       "145"
      ]
     },
     "execution_count": 28,
     "metadata": {},
     "output_type": "execute_result"
    }
   ],
   "source": [
    "count100 = j_categoryCount.sort(desc(\"count\")).filter(j_categoryCount[\"count\"] > 100).count()\n",
    "count100"
   ]
  },
  {
   "cell_type": "markdown",
   "metadata": {},
   "source": [
    "This shows that there are 145 categories with more than 100 observations. "
   ]
  },
  {
   "cell_type": "code",
   "execution_count": 29,
   "metadata": {},
   "outputs": [],
   "source": [
    "top_categories = list(j_categoryCount.sort(desc(\"count\")).select(\"category\").limit(count100).toPandas().category)"
   ]
  },
  {
   "cell_type": "code",
   "execution_count": 30,
   "metadata": {},
   "outputs": [
    {
     "name": "stdout",
     "output_type": "stream",
     "text": [
      "+----------+--------------------+--------------+--------------------+---------+-----------+-----+\n",
      "|  air_date|              answer|      category|            question|    round|show_number|value|\n",
      "+----------+--------------------+--------------+--------------------+---------+-----------+-----+\n",
      "|2004-12-31|          Copernicus|       HISTORY|'For the last 8 y...|Jeopardy!|       4680| $200|\n",
      "|2004-12-31|             the ant|3-LETTER WORDS|'In the title of ...|Jeopardy!|       4680| $200|\n",
      "|2004-12-31|      the Appian Way|       HISTORY|'Built in 312 B.C...|Jeopardy!|       4680| $400|\n",
      "|2004-12-31|             the cud|3-LETTER WORDS|'Cows regurgitate...|Jeopardy!|       4680| $400|\n",
      "|2004-12-31|Ceylon (or Sri La...|       HISTORY|'In 1000 Rajaraja...|Jeopardy!|       4680| $600|\n",
      "+----------+--------------------+--------------+--------------------+---------+-----------+-----+\n",
      "only showing top 5 rows\n",
      "\n"
     ]
    }
   ],
   "source": [
    "jeo_f = jeopardy.where(col(\"category\").isin(top_categories))\n",
    "jeo_f.show(5)"
   ]
  },
  {
   "cell_type": "code",
   "execution_count": 31,
   "metadata": {},
   "outputs": [
    {
     "data": {
      "text/plain": [
       "29252"
      ]
     },
     "execution_count": 31,
     "metadata": {},
     "output_type": "execute_result"
    }
   ],
   "source": [
    "jeo_f.count()"
   ]
  },
  {
   "cell_type": "markdown",
   "metadata": {},
   "source": [
    "Now that we have narrowed down our data set, we are able to process the data by stripping the punctuation and tokenizing the questions into individual words."
   ]
  },
  {
   "cell_type": "code",
   "execution_count": 32,
   "metadata": {},
   "outputs": [
    {
     "data": {
      "text/plain": [
       "DataFrame[air_date: string, answer: string, category: string, question: string, round: string, show_number: string, value: string, stripped: string, words: array<string>, filtered: array<string>]"
      ]
     },
     "execution_count": 32,
     "metadata": {},
     "output_type": "execute_result"
    }
   ],
   "source": [
    "#stripping punctuation, tokenizing, and stop word removing for the modified dataset\n",
    "jeo_fpunc = jeo_f.withColumn(\"stripped\", f.regexp_replace(f.col(\"question\"), \"[\\!@#$%^&*)(><,';:]\", \"\"))\n",
    "jeo_fpunc.cache()\n",
    "tokenizer = Tokenizer(inputCol = \"stripped\", outputCol = \"words\")\n",
    "tokenized_f = tokenizer.transform(jeo_fpunc)\n",
    "tokenized_f.cache()\n",
    "remover = StopWordsRemover(inputCol=\"words\", outputCol=\"filtered\")\n",
    "jeo_fStopRemoved = remover.transform(tokenized_f)\n",
    "jeo_fStopRemoved.cache()"
   ]
  },
  {
   "cell_type": "code",
   "execution_count": 34,
   "metadata": {},
   "outputs": [
    {
     "data": {
      "text/plain": [
       "DataFrame[air_date: string, answer: string, category: string, question: string, round: string, show_number: string, value: string, stripped: string, words: array<string>, filtered: array<string>, stemmed: array<string>]"
      ]
     },
     "execution_count": 34,
     "metadata": {},
     "output_type": "execute_result"
    }
   ],
   "source": [
    "from nltk.stem.porter import *\n",
    "stemmer = PorterStemmer()\n",
    "\n",
    "def stem(in_vec):\n",
    "    out_vec = []\n",
    "    for t in in_vec:\n",
    "        t_stem = stemmer.stem(t)\n",
    "        out_vec.append(t_stem)       \n",
    "    return out_vec\n",
    "\n",
    "from pyspark.sql.types import *\n",
    "stemmer_udf = udf(lambda x: stem(x), ArrayType(StringType()))\n",
    "#stemming words in modified dataset\n",
    "jeo_fStemmed = jeo_fStopRemoved.withColumn(\"stemmed\", stemmer_udf(\"filtered\"))\n",
    "jeo_fStemmed.cache()"
   ]
  },
  {
   "cell_type": "markdown",
   "metadata": {},
   "source": [
    "The data has now been stemmed and has the following attributes:"
   ]
  },
  {
   "cell_type": "code",
   "execution_count": 37,
   "metadata": {},
   "outputs": [
    {
     "data": {
      "text/plain": [
       "['air_date',\n",
       " 'answer',\n",
       " 'category',\n",
       " 'question',\n",
       " 'round',\n",
       " 'show_number',\n",
       " 'value',\n",
       " 'stripped',\n",
       " 'words',\n",
       " 'filtered',\n",
       " 'stemmed']"
      ]
     },
     "execution_count": 37,
     "metadata": {},
     "output_type": "execute_result"
    }
   ],
   "source": [
    "jeo_fStemmed.columns"
   ]
  },
  {
   "cell_type": "code",
   "execution_count": 38,
   "metadata": {},
   "outputs": [
    {
     "name": "stdout",
     "output_type": "stream",
     "text": [
      "+----------+---------------------+--------------+--------------------------------------------------------------------------------------------------+---------+-----------+-----+-----------------------------------------------------------------------------------------------+-------------------------------------------------------------------------------------------------------------------+--------------------------------------------------------------------------+-----------------------------------------------------------------------+\n",
      "|air_date  |answer               |category      |question                                                                                          |round    |show_number|value|stripped                                                                                       |words                                                                                                              |filtered                                                                  |stemmed                                                                |\n",
      "+----------+---------------------+--------------+--------------------------------------------------------------------------------------------------+---------+-----------+-----+-----------------------------------------------------------------------------------------------+-------------------------------------------------------------------------------------------------------------------+--------------------------------------------------------------------------+-----------------------------------------------------------------------+\n",
      "|2004-12-31|Copernicus           |HISTORY       |'For the last 8 years of his life, Galileo was under house arrest for espousing this man's theory'|Jeopardy!|4680       |$200 |For the last 8 years of his life Galileo was under house arrest for espousing this mans theory |[for, the, last, 8, years, of, his, life, galileo, was, under, house, arrest, for, espousing, this, mans, theory]  |[last, 8, years, life, galileo, house, arrest, espousing, mans, theory]   |[last, 8, year, life, galileo, hous, arrest, espous, man, theori]      |\n",
      "|2004-12-31|the ant              |3-LETTER WORDS|'In the title of an Aesop fable, this insect shared billing with a grasshopper'                   |Jeopardy!|4680       |$200 |In the title of an Aesop fable this insect shared billing with a grasshopper                   |[in, the, title, of, an, aesop, fable, this, insect, shared, billing, with, a, grasshopper]                        |[title, aesop, fable, insect, shared, billing, grasshopper]               |[titl, aesop, fabl, insect, share, bill, grasshopp]                    |\n",
      "|2004-12-31|the Appian Way       |HISTORY       |'Built in 312 B.C. to link Rome & the South of Italy, it's still in use today'                    |Jeopardy!|4680       |$400 |Built in 312 B.C. to link Rome  the South of Italy its still in use today                      |[built, in, 312, b.c., to, link, rome, , the, south, of, italy, its, still, in, use, today]                        |[built, 312, b.c., link, rome, , south, italy, still, use, today]         |[built, 312, b.c., link, rome, , south, itali, still, use, today]      |\n",
      "|2004-12-31|the cud              |3-LETTER WORDS|'Cows regurgitate this from the first stomach to the mouth & chew it again'                       |Jeopardy!|4680       |$400 |Cows regurgitate this from the first stomach to the mouth  chew it again                       |[cows, regurgitate, this, from, the, first, stomach, to, the, mouth, , chew, it, again]                            |[cows, regurgitate, first, stomach, mouth, , chew]                        |[cow, regurgit, first, stomach, mouth, , chew]                         |\n",
      "|2004-12-31|Ceylon (or Sri Lanka)|HISTORY       |'In 1000 Rajaraja I of the Cholas battled to take this Indian Ocean island now known for its tea' |Jeopardy!|4680       |$600 |In 1000 Rajaraja I of the Cholas battled to take this Indian Ocean island now known for its tea|[in, 1000, rajaraja, i, of, the, cholas, battled, to, take, this, indian, ocean, island, now, known, for, its, tea]|[1000, rajaraja, cholas, battled, take, indian, ocean, island, known, tea]|[1000, rajaraja, chola, battl, take, indian, ocean, island, known, tea]|\n",
      "+----------+---------------------+--------------+--------------------------------------------------------------------------------------------------+---------+-----------+-----+-----------------------------------------------------------------------------------------------+-------------------------------------------------------------------------------------------------------------------+--------------------------------------------------------------------------+-----------------------------------------------------------------------+\n",
      "only showing top 5 rows\n",
      "\n"
     ]
    }
   ],
   "source": [
    "jeo_fStemmed.show(5, truncate=False)"
   ]
  },
  {
   "cell_type": "code",
   "execution_count": 35,
   "metadata": {},
   "outputs": [
    {
     "data": {
      "text/plain": [
       "DataFrame[air_date: string, answer: string, category: string, question: string, round: string, show_number: string, value: string, stripped: string, words: array<string>, filtered: array<string>, stemmed: array<string>, rawFeatures: vector, features: vector]"
      ]
     },
     "execution_count": 35,
     "metadata": {},
     "output_type": "execute_result"
    }
   ],
   "source": [
    "hashingTF = HashingTF(inputCol=\"stemmed\", outputCol=\"rawFeatures\", numFeatures=50000)\n",
    "featurizedData = hashingTF.transform(jeo_fStemmed)\n",
    "idf = IDF(inputCol=\"rawFeatures\", outputCol=\"features\")\n",
    "idfModel = idf.fit(featurizedData)\n",
    "rescaledData = idfModel.transform(featurizedData)\n",
    "rescaledData.cache()"
   ]
  },
  {
   "cell_type": "code",
   "execution_count": null,
   "metadata": {},
   "outputs": [],
   "source": [
    "rescaledData.show(2)"
   ]
  },
  {
   "cell_type": "code",
   "execution_count": 39,
   "metadata": {},
   "outputs": [
    {
     "name": "stdout",
     "output_type": "stream",
     "text": [
      "+-----+-----------------+\n",
      "|label|category         |\n",
      "+-----+-----------------+\n",
      "|8.0  |HISTORY          |\n",
      "|42.0 |3-LETTER WORDS   |\n",
      "|8.0  |HISTORY          |\n",
      "|42.0 |3-LETTER WORDS   |\n",
      "|8.0  |HISTORY          |\n",
      "|42.0 |3-LETTER WORDS   |\n",
      "|8.0  |HISTORY          |\n",
      "|42.0 |3-LETTER WORDS   |\n",
      "|8.0  |HISTORY          |\n",
      "|42.0 |3-LETTER WORDS   |\n",
      "|81.0 |IN THE DICTIONARY|\n",
      "|81.0 |IN THE DICTIONARY|\n",
      "|81.0 |IN THE DICTIONARY|\n",
      "|81.0 |IN THE DICTIONARY|\n",
      "|81.0 |IN THE DICTIONARY|\n",
      "|77.0 |TRAVEL & TOURISM |\n",
      "|77.0 |TRAVEL & TOURISM |\n",
      "|77.0 |TRAVEL & TOURISM |\n",
      "|77.0 |TRAVEL & TOURISM |\n",
      "|77.0 |TRAVEL & TOURISM |\n",
      "+-----+-----------------+\n",
      "only showing top 20 rows\n",
      "\n"
     ]
    }
   ],
   "source": [
    "indexer = StringIndexer(inputCol=\"category\", outputCol=\"label\")\n",
    "indexed = indexer.fit(rescaledData).transform(rescaledData)\n",
    "indexed.select(\"label\",\"category\").show(truncate=False)"
   ]
  },
  {
   "cell_type": "markdown",
   "metadata": {},
   "source": [
    "Split the data into training and test sets."
   ]
  },
  {
   "cell_type": "code",
   "execution_count": 40,
   "metadata": {},
   "outputs": [],
   "source": [
    "training,test = indexed.randomSplit([0.8,0.2], seed = 1) "
   ]
  },
  {
   "cell_type": "code",
   "execution_count": null,
   "metadata": {},
   "outputs": [],
   "source": []
  },
  {
   "cell_type": "code",
   "execution_count": null,
   "metadata": {},
   "outputs": [],
   "source": [
    "lr = LogisticRegression(featuresCol = 'features', labelCol = 'label', maxIter=10, regParam=0.3, elasticNetParam=0.8)\n",
    "lrModel = lr.fit(training)"
   ]
  },
  {
   "cell_type": "code",
   "execution_count": null,
   "metadata": {},
   "outputs": [],
   "source": []
  }
 ],
 "metadata": {
  "kernelspec": {
   "display_name": "Python 3",
   "language": "python",
   "name": "python3"
  },
  "language_info": {
   "codemirror_mode": {
    "name": "ipython",
    "version": 3
   },
   "file_extension": ".py",
   "mimetype": "text/x-python",
   "name": "python",
   "nbconvert_exporter": "python",
   "pygments_lexer": "ipython3",
   "version": "3.6.8"
  }
 },
 "nbformat": 4,
 "nbformat_minor": 2
}
