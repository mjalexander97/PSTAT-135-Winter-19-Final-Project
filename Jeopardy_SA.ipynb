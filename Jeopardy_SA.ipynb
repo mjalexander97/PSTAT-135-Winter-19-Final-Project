{
 "cells": [
  {
   "cell_type": "code",
   "execution_count": 5,
   "metadata": {},
   "outputs": [],
   "source": [
    "from pyspark import SparkContext\n",
    "from pyspark.sql import SQLContext\n",
    "from pyspark.sql import Row\n",
    "from pyspark.sql.types import *       # for datatype conversion\n",
    "from pyspark.sql.functions import *   # for col() function\n",
    "import pandas as pd\n",
    "from pyspark.sql import SparkSession\n",
    "from pyspark.ml.feature import StopWordsRemover\n",
    "from pyspark.ml.feature import Tokenizer\n",
    "import re\n",
    "import pyspark.sql.functions as f\n",
    "from pyspark.ml.feature import HashingTF, IDF, Tokenizer\n",
    "\n",
    "sc = SparkContext.getOrCreate()\n",
    "sqlCtx = SQLContext(sc)\n",
    "\n",
    "spark = SparkSession \\\n",
    "    .builder \\\n",
    "    .master(\"local\") \\\n",
    "    .appName(\"Jeopardy Calculation\") \\\n",
    "    .config(\"spark.executor.memory\", '2g') \\\n",
    "    .config('spark.executor.cores', '1') \\\n",
    "    .config('spark.cores.max', '1') \\\n",
    "    .config(\"spark.driver.memory\",'1g') \\\n",
    "    .getOrCreate()"
   ]
  },
  {
   "cell_type": "code",
   "execution_count": 6,
   "metadata": {},
   "outputs": [],
   "source": [
    "jeopardy = spark.read.json(\"JEOPARDY_QUESTIONS1.json\")"
   ]
  },
  {
   "cell_type": "code",
   "execution_count": 7,
   "metadata": {},
   "outputs": [
    {
     "name": "stdout",
     "output_type": "stream",
     "text": [
      "+----------+--------------------+--------------------+--------------------+----------------+-----------+------+\n",
      "|  air_date|              answer|            category|            question|           round|show_number| value|\n",
      "+----------+--------------------+--------------------+--------------------+----------------+-----------+------+\n",
      "|2004-12-31|          Copernicus|             HISTORY|'For the last 8 y...|       Jeopardy!|       4680|  $200|\n",
      "|2004-12-31|          Jim Thorpe|ESPN's TOP 10 ALL...|'No. 2: 1912 Olym...|       Jeopardy!|       4680|  $200|\n",
      "|2004-12-31|             Arizona|EVERYBODY TALKS A...|'The city of Yuma...|       Jeopardy!|       4680|  $200|\n",
      "|2004-12-31|         McDonald\\'s|    THE COMPANY LINE|'In 1963, live on...|       Jeopardy!|       4680|  $200|\n",
      "|2004-12-31|          John Adams| EPITAPHS & TRIBUTES|'Signer of the De...|       Jeopardy!|       4680|  $200|\n",
      "|2004-12-31|             the ant|      3-LETTER WORDS|'In the title of ...|       Jeopardy!|       4680|  $200|\n",
      "|2004-12-31|      the Appian Way|             HISTORY|'Built in 312 B.C...|       Jeopardy!|       4680|  $400|\n",
      "|2004-12-31|      Michael Jordan|ESPN's TOP 10 ALL...|'No. 8: 30 steals...|       Jeopardy!|       4680|  $400|\n",
      "|2004-12-31|          Washington|EVERYBODY TALKS A...|'In the winter of...|       Jeopardy!|       4680|  $400|\n",
      "|2004-12-31|      Crate & Barrel|    THE COMPANY LINE|'This housewares ...|       Jeopardy!|       4680|  $400|\n",
      "|2004-12-31|      Jackie Gleason| EPITAPHS & TRIBUTES|  '\"And away we go\"'|       Jeopardy!|       4680|  $400|\n",
      "|2004-12-31|             the cud|      3-LETTER WORDS|'Cows regurgitate...|       Jeopardy!|       4680|  $400|\n",
      "|2004-12-31|Ceylon (or Sri La...|             HISTORY|'In 1000 Rajaraja...|       Jeopardy!|       4680|  $600|\n",
      "|2004-12-31|           Jim Brown|ESPN's TOP 10 ALL...|'No. 1: Lettered ...|       Jeopardy!|       4680|  $600|\n",
      "|2004-12-31|        the UV index|EVERYBODY TALKS A...|'On June 28, 1994...|       Jeopardy!|       4680|  $600|\n",
      "|2004-12-31|              Bulova|    THE COMPANY LINE|'This company's A...|       Jeopardy!|       4680|  $600|\n",
      "|2004-12-31|         Jesse James| EPITAPHS & TRIBUTES|'Outlaw: \"Murdere...|       Jeopardy!|       4680|  $600|\n",
      "|2004-12-31|                 imp|      3-LETTER WORDS|'A small demon, o...|       Jeopardy!|       4680|  $600|\n",
      "|2004-12-31|   the International|             HISTORY|'Karl led the fir...|       Jeopardy!|       4680|  $800|\n",
      "|2004-12-31|        (Lou) Gehrig|ESPN's TOP 10 ALL...|'No. 10: FB/LB fo...|       Jeopardy!|       4680|  $800|\n",
      "|2004-12-31|             Morocco|EVERYBODY TALKS A...|'Africa's lowest ...|       Jeopardy!|       4680|  $800|\n",
      "|2004-12-31|       (Paul) Bonwit|    THE COMPANY LINE|'Edward Teller & ...|       Jeopardy!|       4680|  $800|\n",
      "|2004-12-31|Hattie McDaniel (...| EPITAPHS & TRIBUTES|'1939 Oscar winne...|       Jeopardy!|       4680|$2,000|\n",
      "|2004-12-31|                 era|      3-LETTER WORDS|'In geologic time...|       Jeopardy!|       4680|  $800|\n",
      "|2004-12-31|  the Congress Party|             HISTORY|'This Asian polit...|       Jeopardy!|       4680| $1000|\n",
      "|2004-12-31|  (Wilt) Chamberlain|ESPN's TOP 10 ALL...|'No. 5: Only cent...|       Jeopardy!|       4680| $1000|\n",
      "|2004-12-31|                  K2|    THE COMPANY LINE|'The Kirschner br...|       Jeopardy!|       4680| $1000|\n",
      "|2004-12-31|         Ethan Allen| EPITAPHS & TRIBUTES|'Revolutionary Wa...|       Jeopardy!|       4680| $1000|\n",
      "|2004-12-31|                 ply|      3-LETTER WORDS|'A single layer o...|       Jeopardy!|       4680| $1000|\n",
      "|2004-12-31|              Horton|DR. SEUSS AT THE ...|'<a href=\"http://...|Double Jeopardy!|       4680|  $400|\n",
      "+----------+--------------------+--------------------+--------------------+----------------+-----------+------+\n",
      "only showing top 30 rows\n",
      "\n"
     ]
    }
   ],
   "source": [
    "jeopardy.show(30)\n"
   ]
  },
  {
   "cell_type": "code",
   "execution_count": 8,
   "metadata": {},
   "outputs": [
    {
     "name": "stdout",
     "output_type": "stream",
     "text": [
      "+--------------------+-----+\n",
      "|            category|count|\n",
      "+--------------------+-----+\n",
      "|      BEFORE & AFTER|  547|\n",
      "|             SCIENCE|  519|\n",
      "|          LITERATURE|  496|\n",
      "|    AMERICAN HISTORY|  418|\n",
      "|           POTPOURRI|  401|\n",
      "|       WORLD HISTORY|  377|\n",
      "|        WORD ORIGINS|  371|\n",
      "|COLLEGES & UNIVER...|  351|\n",
      "|             HISTORY|  349|\n",
      "|              SPORTS|  342|\n",
      "|         U.S. CITIES|  339|\n",
      "|     WORLD GEOGRAPHY|  338|\n",
      "|     BODIES OF WATER|  327|\n",
      "|             ANIMALS|  324|\n",
      "|      STATE CAPITALS|  314|\n",
      "| BUSINESS & INDUSTRY|  311|\n",
      "|             ISLANDS|  301|\n",
      "|      WORLD CAPITALS|  300|\n",
      "|      U.S. GEOGRAPHY|  299|\n",
      "|            RELIGION|  297|\n",
      "+--------------------+-----+\n",
      "only showing top 20 rows\n",
      "\n"
     ]
    }
   ],
   "source": [
    "j_categoryCount = jeopardy.groupBy(\"category\").count()\n",
    "j_categoryCount.sort(desc(\"count\")).show()"
   ]
  },
  {
   "cell_type": "code",
   "execution_count": 9,
   "metadata": {},
   "outputs": [],
   "source": [
    "jeopardy = jeopardy.withColumn(\"stripped\", f.regexp_replace(f.col(\"question\"), \"[\\!@#$%^&*)(><,';:]\", \"\"))\n"
   ]
  },
  {
   "cell_type": "code",
   "execution_count": 10,
   "metadata": {},
   "outputs": [
    {
     "data": {
      "text/plain": [
       "[Row(stripped='For the last 8 years of his life Galileo was under house arrest for espousing this mans theory', words=['for', 'the', 'last', '8', 'years', 'of', 'his', 'life', 'galileo', 'was', 'under', 'house', 'arrest', 'for', 'espousing', 'this', 'mans', 'theory']),\n",
       " Row(stripped='No. 2 1912 Olympian football star at Carlisle Indian School 6 MLB seasons with the Reds Giants  Braves', words=['no.', '2', '1912', 'olympian', 'football', 'star', 'at', 'carlisle', 'indian', 'school', '6', 'mlb', 'seasons', 'with', 'the', 'reds', 'giants', '', 'braves']),\n",
       " Row(stripped='The city of Yuma in this state has a record average of 4055 hours of sunshine each year', words=['the', 'city', 'of', 'yuma', 'in', 'this', 'state', 'has', 'a', 'record', 'average', 'of', '4055', 'hours', 'of', 'sunshine', 'each', 'year']),\n",
       " Row(stripped='In 1963 live on \"The Art Linkletter Show\" this company served its billionth burger', words=['in', '1963', 'live', 'on', '\"the', 'art', 'linkletter', 'show\"', 'this', 'company', 'served', 'its', 'billionth', 'burger']),\n",
       " Row(stripped='Signer of the Dec. of Indep. framer of the Constitution of Mass. second President of the United States', words=['signer', 'of', 'the', 'dec.', 'of', 'indep.', 'framer', 'of', 'the', 'constitution', 'of', 'mass.', 'second', 'president', 'of', 'the', 'united', 'states'])]"
      ]
     },
     "execution_count": 10,
     "metadata": {},
     "output_type": "execute_result"
    }
   ],
   "source": [
    "tokenizer = Tokenizer(inputCol = \"stripped\", outputCol = \"words\")\n",
    "tokenized = tokenizer.transform(jeopardy)\n",
    "tokenized.select(\"stripped\",\"words\").take(5)"
   ]
  },
  {
   "cell_type": "code",
   "execution_count": 11,
   "metadata": {},
   "outputs": [
    {
     "name": "stdout",
     "output_type": "stream",
     "text": [
      "+----------+---------------------+-------------------------------+------------------------------------------------------------------------------------------------------------------------+---------+-----------+-----+----------------------------------------------------------------------------------------------------------------+---------------------------------------------------------------------------------------------------------------------------------------+-------------------------------------------------------------------------------------------------------------+\n",
      "|air_date  |answer               |category                       |question                                                                                                                |round    |show_number|value|stripped                                                                                                        |words                                                                                                                                  |filtered                                                                                                     |\n",
      "+----------+---------------------+-------------------------------+------------------------------------------------------------------------------------------------------------------------+---------+-----------+-----+----------------------------------------------------------------------------------------------------------------+---------------------------------------------------------------------------------------------------------------------------------------+-------------------------------------------------------------------------------------------------------------+\n",
      "|2004-12-31|Copernicus           |HISTORY                        |'For the last 8 years of his life, Galileo was under house arrest for espousing this man's theory'                      |Jeopardy!|4680       |$200 |For the last 8 years of his life Galileo was under house arrest for espousing this mans theory                  |[for, the, last, 8, years, of, his, life, galileo, was, under, house, arrest, for, espousing, this, mans, theory]                      |[last, 8, years, life, galileo, house, arrest, espousing, mans, theory]                                      |\n",
      "|2004-12-31|Jim Thorpe           |ESPN's TOP 10 ALL-TIME ATHLETES|'No. 2: 1912 Olympian; football star at Carlisle Indian School; 6 MLB seasons with the Reds, Giants & Braves'           |Jeopardy!|4680       |$200 |No. 2 1912 Olympian football star at Carlisle Indian School 6 MLB seasons with the Reds Giants  Braves          |[no., 2, 1912, olympian, football, star, at, carlisle, indian, school, 6, mlb, seasons, with, the, reds, giants, , braves]             |[no., 2, 1912, olympian, football, star, carlisle, indian, school, 6, mlb, seasons, reds, giants, , braves]  |\n",
      "|2004-12-31|Arizona              |EVERYBODY TALKS ABOUT IT...    |'The city of Yuma in this state has a record average of 4,055 hours of sunshine each year'                              |Jeopardy!|4680       |$200 |The city of Yuma in this state has a record average of 4055 hours of sunshine each year                         |[the, city, of, yuma, in, this, state, has, a, record, average, of, 4055, hours, of, sunshine, each, year]                             |[city, yuma, state, record, average, 4055, hours, sunshine, year]                                            |\n",
      "|2004-12-31|McDonald\\'s          |THE COMPANY LINE               |'In 1963, live on \"The Art Linkletter Show\", this company served its billionth burger'                                  |Jeopardy!|4680       |$200 |In 1963 live on \"The Art Linkletter Show\" this company served its billionth burger                              |[in, 1963, live, on, \"the, art, linkletter, show\", this, company, served, its, billionth, burger]                                      |[1963, live, \"the, art, linkletter, show\", company, served, billionth, burger]                               |\n",
      "|2004-12-31|John Adams           |EPITAPHS & TRIBUTES            |'Signer of the Dec. of Indep., framer of the Constitution of Mass., second President of the United States'              |Jeopardy!|4680       |$200 |Signer of the Dec. of Indep. framer of the Constitution of Mass. second President of the United States          |[signer, of, the, dec., of, indep., framer, of, the, constitution, of, mass., second, president, of, the, united, states]              |[signer, dec., indep., framer, constitution, mass., second, president, united, states]                       |\n",
      "|2004-12-31|the ant              |3-LETTER WORDS                 |'In the title of an Aesop fable, this insect shared billing with a grasshopper'                                         |Jeopardy!|4680       |$200 |In the title of an Aesop fable this insect shared billing with a grasshopper                                    |[in, the, title, of, an, aesop, fable, this, insect, shared, billing, with, a, grasshopper]                                            |[title, aesop, fable, insect, shared, billing, grasshopper]                                                  |\n",
      "|2004-12-31|the Appian Way       |HISTORY                        |'Built in 312 B.C. to link Rome & the South of Italy, it's still in use today'                                          |Jeopardy!|4680       |$400 |Built in 312 B.C. to link Rome  the South of Italy its still in use today                                       |[built, in, 312, b.c., to, link, rome, , the, south, of, italy, its, still, in, use, today]                                            |[built, 312, b.c., link, rome, , south, italy, still, use, today]                                            |\n",
      "|2004-12-31|Michael Jordan       |ESPN's TOP 10 ALL-TIME ATHLETES|'No. 8: 30 steals for the Birmingham Barons; 2,306 steals for the Bulls'                                                |Jeopardy!|4680       |$400 |No. 8 30 steals for the Birmingham Barons 2306 steals for the Bulls                                             |[no., 8, 30, steals, for, the, birmingham, barons, 2306, steals, for, the, bulls]                                                      |[no., 8, 30, steals, birmingham, barons, 2306, steals, bulls]                                                |\n",
      "|2004-12-31|Washington           |EVERYBODY TALKS ABOUT IT...    |'In the winter of 1971-72, a record 1,122 inches of snow fell at Rainier Paradise Ranger Station in this state'         |Jeopardy!|4680       |$400 |In the winter of 1971-72 a record 1122 inches of snow fell at Rainier Paradise Ranger Station in this state     |[in, the, winter, of, 1971-72, a, record, 1122, inches, of, snow, fell, at, rainier, paradise, ranger, station, in, this, state]       |[winter, 1971-72, record, 1122, inches, snow, fell, rainier, paradise, ranger, station, state]               |\n",
      "|2004-12-31|Crate & Barrel       |THE COMPANY LINE               |'This housewares store was named for the packaging its merchandise came in & was first displayed on'                    |Jeopardy!|4680       |$400 |This housewares store was named for the packaging its merchandise came in  was first displayed on               |[this, housewares, store, was, named, for, the, packaging, its, merchandise, came, in, , was, first, displayed, on]                    |[housewares, store, named, packaging, merchandise, came, , first, displayed]                                 |\n",
      "|2004-12-31|Jackie Gleason       |EPITAPHS & TRIBUTES            |'\"And away we go\"'                                                                                                      |Jeopardy!|4680       |$400 |\"And away we go\"                                                                                                |[\"and, away, we, go\"]                                                                                                                  |[\"and, away, go\"]                                                                                            |\n",
      "|2004-12-31|the cud              |3-LETTER WORDS                 |'Cows regurgitate this from the first stomach to the mouth & chew it again'                                             |Jeopardy!|4680       |$400 |Cows regurgitate this from the first stomach to the mouth  chew it again                                        |[cows, regurgitate, this, from, the, first, stomach, to, the, mouth, , chew, it, again]                                                |[cows, regurgitate, first, stomach, mouth, , chew]                                                           |\n",
      "|2004-12-31|Ceylon (or Sri Lanka)|HISTORY                        |'In 1000 Rajaraja I of the Cholas battled to take this Indian Ocean island now known for its tea'                       |Jeopardy!|4680       |$600 |In 1000 Rajaraja I of the Cholas battled to take this Indian Ocean island now known for its tea                 |[in, 1000, rajaraja, i, of, the, cholas, battled, to, take, this, indian, ocean, island, now, known, for, its, tea]                    |[1000, rajaraja, cholas, battled, take, indian, ocean, island, known, tea]                                   |\n",
      "|2004-12-31|Jim Brown            |ESPN's TOP 10 ALL-TIME ATHLETES|'No. 1: Lettered in hoops, football & lacrosse at Syracuse & if you think he couldn't act, ask his 11 \"unclean\" buddies'|Jeopardy!|4680       |$600 |No. 1 Lettered in hoops football  lacrosse at Syracuse  if you think he couldnt act ask his 11 \"unclean\" buddies|[no., 1, lettered, in, hoops, football, , lacrosse, at, syracuse, , if, you, think, he, couldnt, act, ask, his, 11, \"unclean\", buddies]|[no., 1, lettered, hoops, football, , lacrosse, syracuse, , think, couldnt, act, ask, 11, \"unclean\", buddies]|\n",
      "|2004-12-31|the UV index         |EVERYBODY TALKS ABOUT IT...    |'On June 28, 1994 the nat'l weather service began issuing this index that rates the intensity of the sun's radiation'   |Jeopardy!|4680       |$600 |On June 28 1994 the natl weather service began issuing this index that rates the intensity of the suns radiation|[on, june, 28, 1994, the, natl, weather, service, began, issuing, this, index, that, rates, the, intensity, of, the, suns, radiation]  |[june, 28, 1994, natl, weather, service, began, issuing, index, rates, intensity, suns, radiation]           |\n",
      "|2004-12-31|Bulova               |THE COMPANY LINE               |'This company's Accutron watch, introduced in 1960, had a guarantee of accuracy to within one minute a  month'          |Jeopardy!|4680       |$600 |This companys Accutron watch introduced in 1960 had a guarantee of accuracy to within one minute a  month       |[this, companys, accutron, watch, introduced, in, 1960, had, a, guarantee, of, accuracy, to, within, one, minute, a, , month]          |[companys, accutron, watch, introduced, 1960, guarantee, accuracy, within, one, minute, , month]             |\n",
      "|2004-12-31|Jesse James          |EPITAPHS & TRIBUTES            |'Outlaw: \"Murdered by a traitor and a coward whose name is not worthy to appear here\"'                                  |Jeopardy!|4680       |$600 |Outlaw \"Murdered by a traitor and a coward whose name is not worthy to appear here\"                             |[outlaw, \"murdered, by, a, traitor, and, a, coward, whose, name, is, not, worthy, to, appear, here\"]                                   |[outlaw, \"murdered, traitor, coward, whose, name, worthy, appear, here\"]                                     |\n",
      "|2004-12-31|imp                  |3-LETTER WORDS                 |'A small demon, or a mischievous child (who might be a little demon!)'                                                  |Jeopardy!|4680       |$600 |A small demon or a mischievous child who might be a little demon                                                |[a, small, demon, or, a, mischievous, child, who, might, be, a, little, demon]                                                         |[small, demon, mischievous, child, might, little, demon]                                                     |\n",
      "|2004-12-31|the International    |HISTORY                        |'Karl led the first of these Marxist organizational efforts; the second one began in 1889'                              |Jeopardy!|4680       |$800 |Karl led the first of these Marxist organizational efforts the second one began in 1889                         |[karl, led, the, first, of, these, marxist, organizational, efforts, the, second, one, began, in, 1889]                                |[karl, led, first, marxist, organizational, efforts, second, one, began, 1889]                               |\n",
      "|2004-12-31|(Lou) Gehrig         |ESPN's TOP 10 ALL-TIME ATHLETES|'No. 10: FB/LB for Columbia U. in the 1920s; MVP for the Yankees in '27 & '36; \"Gibraltar in Cleats\"'                   |Jeopardy!|4680       |$800 |No. 10 FB/LB for Columbia U. in the 1920s MVP for the Yankees in 27  36 \"Gibraltar in Cleats\"                   |[no., 10, fb/lb, for, columbia, u., in, the, 1920s, mvp, for, the, yankees, in, 27, , 36, \"gibraltar, in, cleats\"]                     |[no., 10, fb/lb, columbia, u., 1920s, mvp, yankees, 27, , 36, \"gibraltar, cleats\"]                           |\n",
      "+----------+---------------------+-------------------------------+------------------------------------------------------------------------------------------------------------------------+---------+-----------+-----+----------------------------------------------------------------------------------------------------------------+---------------------------------------------------------------------------------------------------------------------------------------+-------------------------------------------------------------------------------------------------------------+\n",
      "only showing top 20 rows\n",
      "\n"
     ]
    }
   ],
   "source": [
    "remover = StopWordsRemover(inputCol=\"words\", outputCol=\"filtered\")\n",
    "#remover.transform(tokenized).show(truncate=False)\n",
    "jeopardyStopRemoved = remover.transform(tokenized)\n",
    "jeopardyStopRemoved.show(truncate=False)"
   ]
  },
  {
   "cell_type": "code",
   "execution_count": 12,
   "metadata": {},
   "outputs": [],
   "source": [
    "from nltk.stem.porter import *\n",
    "stemmer = PorterStemmer()"
   ]
  },
  {
   "cell_type": "code",
   "execution_count": 13,
   "metadata": {},
   "outputs": [],
   "source": [
    "def stem(in_vec):\n",
    "    out_vec = []\n",
    "    for t in in_vec:\n",
    "        t_stem = stemmer.stem(t)\n",
    "        out_vec.append(t_stem)       \n",
    "    return out_vec\n"
   ]
  },
  {
   "cell_type": "code",
   "execution_count": 14,
   "metadata": {},
   "outputs": [],
   "source": [
    "from pyspark.sql.types import *\n",
    "stemmer_udf = udf(lambda x: stem(x), ArrayType(StringType()))"
   ]
  },
  {
   "cell_type": "code",
   "execution_count": 15,
   "metadata": {},
   "outputs": [
    {
     "name": "stdout",
     "output_type": "stream",
     "text": [
      "+----------+---------------------+-------------------------------+------------------------------------------------------------------------------------------------------------------------+---------+-----------+-----+----------------------------------------------------------------------------------------------------------------+---------------------------------------------------------------------------------------------------------------------------------------+-------------------------------------------------------------------------------------------------------------+-----------------------------------------------------------------------------------------------------+\n",
      "|air_date  |answer               |category                       |question                                                                                                                |round    |show_number|value|stripped                                                                                                        |words                                                                                                                                  |filtered                                                                                                     |stemmed                                                                                              |\n",
      "+----------+---------------------+-------------------------------+------------------------------------------------------------------------------------------------------------------------+---------+-----------+-----+----------------------------------------------------------------------------------------------------------------+---------------------------------------------------------------------------------------------------------------------------------------+-------------------------------------------------------------------------------------------------------------+-----------------------------------------------------------------------------------------------------+\n",
      "|2004-12-31|Copernicus           |HISTORY                        |'For the last 8 years of his life, Galileo was under house arrest for espousing this man's theory'                      |Jeopardy!|4680       |$200 |For the last 8 years of his life Galileo was under house arrest for espousing this mans theory                  |[for, the, last, 8, years, of, his, life, galileo, was, under, house, arrest, for, espousing, this, mans, theory]                      |[last, 8, years, life, galileo, house, arrest, espousing, mans, theory]                                      |[last, 8, year, life, galileo, hous, arrest, espous, man, theori]                                    |\n",
      "|2004-12-31|Jim Thorpe           |ESPN's TOP 10 ALL-TIME ATHLETES|'No. 2: 1912 Olympian; football star at Carlisle Indian School; 6 MLB seasons with the Reds, Giants & Braves'           |Jeopardy!|4680       |$200 |No. 2 1912 Olympian football star at Carlisle Indian School 6 MLB seasons with the Reds Giants  Braves          |[no., 2, 1912, olympian, football, star, at, carlisle, indian, school, 6, mlb, seasons, with, the, reds, giants, , braves]             |[no., 2, 1912, olympian, football, star, carlisle, indian, school, 6, mlb, seasons, reds, giants, , braves]  |[no., 2, 1912, olympian, footbal, star, carlisl, indian, school, 6, mlb, season, red, giant, , brave]|\n",
      "|2004-12-31|Arizona              |EVERYBODY TALKS ABOUT IT...    |'The city of Yuma in this state has a record average of 4,055 hours of sunshine each year'                              |Jeopardy!|4680       |$200 |The city of Yuma in this state has a record average of 4055 hours of sunshine each year                         |[the, city, of, yuma, in, this, state, has, a, record, average, of, 4055, hours, of, sunshine, each, year]                             |[city, yuma, state, record, average, 4055, hours, sunshine, year]                                            |[citi, yuma, state, record, averag, 4055, hour, sunshin, year]                                       |\n",
      "|2004-12-31|McDonald\\'s          |THE COMPANY LINE               |'In 1963, live on \"The Art Linkletter Show\", this company served its billionth burger'                                  |Jeopardy!|4680       |$200 |In 1963 live on \"The Art Linkletter Show\" this company served its billionth burger                              |[in, 1963, live, on, \"the, art, linkletter, show\", this, company, served, its, billionth, burger]                                      |[1963, live, \"the, art, linkletter, show\", company, served, billionth, burger]                               |[1963, live, \"the, art, linklett, show\", compani, serv, billionth, burger]                           |\n",
      "|2004-12-31|John Adams           |EPITAPHS & TRIBUTES            |'Signer of the Dec. of Indep., framer of the Constitution of Mass., second President of the United States'              |Jeopardy!|4680       |$200 |Signer of the Dec. of Indep. framer of the Constitution of Mass. second President of the United States          |[signer, of, the, dec., of, indep., framer, of, the, constitution, of, mass., second, president, of, the, united, states]              |[signer, dec., indep., framer, constitution, mass., second, president, united, states]                       |[signer, dec., indep., framer, constitut, mass., second, presid, unit, state]                        |\n",
      "|2004-12-31|the ant              |3-LETTER WORDS                 |'In the title of an Aesop fable, this insect shared billing with a grasshopper'                                         |Jeopardy!|4680       |$200 |In the title of an Aesop fable this insect shared billing with a grasshopper                                    |[in, the, title, of, an, aesop, fable, this, insect, shared, billing, with, a, grasshopper]                                            |[title, aesop, fable, insect, shared, billing, grasshopper]                                                  |[titl, aesop, fabl, insect, share, bill, grasshopp]                                                  |\n",
      "|2004-12-31|the Appian Way       |HISTORY                        |'Built in 312 B.C. to link Rome & the South of Italy, it's still in use today'                                          |Jeopardy!|4680       |$400 |Built in 312 B.C. to link Rome  the South of Italy its still in use today                                       |[built, in, 312, b.c., to, link, rome, , the, south, of, italy, its, still, in, use, today]                                            |[built, 312, b.c., link, rome, , south, italy, still, use, today]                                            |[built, 312, b.c., link, rome, , south, itali, still, use, today]                                    |\n",
      "|2004-12-31|Michael Jordan       |ESPN's TOP 10 ALL-TIME ATHLETES|'No. 8: 30 steals for the Birmingham Barons; 2,306 steals for the Bulls'                                                |Jeopardy!|4680       |$400 |No. 8 30 steals for the Birmingham Barons 2306 steals for the Bulls                                             |[no., 8, 30, steals, for, the, birmingham, barons, 2306, steals, for, the, bulls]                                                      |[no., 8, 30, steals, birmingham, barons, 2306, steals, bulls]                                                |[no., 8, 30, steal, birmingham, baron, 2306, steal, bull]                                            |\n",
      "|2004-12-31|Washington           |EVERYBODY TALKS ABOUT IT...    |'In the winter of 1971-72, a record 1,122 inches of snow fell at Rainier Paradise Ranger Station in this state'         |Jeopardy!|4680       |$400 |In the winter of 1971-72 a record 1122 inches of snow fell at Rainier Paradise Ranger Station in this state     |[in, the, winter, of, 1971-72, a, record, 1122, inches, of, snow, fell, at, rainier, paradise, ranger, station, in, this, state]       |[winter, 1971-72, record, 1122, inches, snow, fell, rainier, paradise, ranger, station, state]               |[winter, 1971-72, record, 1122, inch, snow, fell, rainier, paradis, ranger, station, state]          |\n",
      "|2004-12-31|Crate & Barrel       |THE COMPANY LINE               |'This housewares store was named for the packaging its merchandise came in & was first displayed on'                    |Jeopardy!|4680       |$400 |This housewares store was named for the packaging its merchandise came in  was first displayed on               |[this, housewares, store, was, named, for, the, packaging, its, merchandise, came, in, , was, first, displayed, on]                    |[housewares, store, named, packaging, merchandise, came, , first, displayed]                                 |[housewar, store, name, packag, merchandis, came, , first, display]                                  |\n",
      "|2004-12-31|Jackie Gleason       |EPITAPHS & TRIBUTES            |'\"And away we go\"'                                                                                                      |Jeopardy!|4680       |$400 |\"And away we go\"                                                                                                |[\"and, away, we, go\"]                                                                                                                  |[\"and, away, go\"]                                                                                            |[\"and, away, go\"]                                                                                    |\n",
      "|2004-12-31|the cud              |3-LETTER WORDS                 |'Cows regurgitate this from the first stomach to the mouth & chew it again'                                             |Jeopardy!|4680       |$400 |Cows regurgitate this from the first stomach to the mouth  chew it again                                        |[cows, regurgitate, this, from, the, first, stomach, to, the, mouth, , chew, it, again]                                                |[cows, regurgitate, first, stomach, mouth, , chew]                                                           |[cow, regurgit, first, stomach, mouth, , chew]                                                       |\n",
      "|2004-12-31|Ceylon (or Sri Lanka)|HISTORY                        |'In 1000 Rajaraja I of the Cholas battled to take this Indian Ocean island now known for its tea'                       |Jeopardy!|4680       |$600 |In 1000 Rajaraja I of the Cholas battled to take this Indian Ocean island now known for its tea                 |[in, 1000, rajaraja, i, of, the, cholas, battled, to, take, this, indian, ocean, island, now, known, for, its, tea]                    |[1000, rajaraja, cholas, battled, take, indian, ocean, island, known, tea]                                   |[1000, rajaraja, chola, battl, take, indian, ocean, island, known, tea]                              |\n",
      "|2004-12-31|Jim Brown            |ESPN's TOP 10 ALL-TIME ATHLETES|'No. 1: Lettered in hoops, football & lacrosse at Syracuse & if you think he couldn't act, ask his 11 \"unclean\" buddies'|Jeopardy!|4680       |$600 |No. 1 Lettered in hoops football  lacrosse at Syracuse  if you think he couldnt act ask his 11 \"unclean\" buddies|[no., 1, lettered, in, hoops, football, , lacrosse, at, syracuse, , if, you, think, he, couldnt, act, ask, his, 11, \"unclean\", buddies]|[no., 1, lettered, hoops, football, , lacrosse, syracuse, , think, couldnt, act, ask, 11, \"unclean\", buddies]|[no., 1, letter, hoop, footbal, , lacross, syracus, , think, couldnt, act, ask, 11, \"unclean\", buddi]|\n",
      "|2004-12-31|the UV index         |EVERYBODY TALKS ABOUT IT...    |'On June 28, 1994 the nat'l weather service began issuing this index that rates the intensity of the sun's radiation'   |Jeopardy!|4680       |$600 |On June 28 1994 the natl weather service began issuing this index that rates the intensity of the suns radiation|[on, june, 28, 1994, the, natl, weather, service, began, issuing, this, index, that, rates, the, intensity, of, the, suns, radiation]  |[june, 28, 1994, natl, weather, service, began, issuing, index, rates, intensity, suns, radiation]           |[june, 28, 1994, natl, weather, servic, began, issu, index, rate, intens, sun, radiat]               |\n",
      "|2004-12-31|Bulova               |THE COMPANY LINE               |'This company's Accutron watch, introduced in 1960, had a guarantee of accuracy to within one minute a  month'          |Jeopardy!|4680       |$600 |This companys Accutron watch introduced in 1960 had a guarantee of accuracy to within one minute a  month       |[this, companys, accutron, watch, introduced, in, 1960, had, a, guarantee, of, accuracy, to, within, one, minute, a, , month]          |[companys, accutron, watch, introduced, 1960, guarantee, accuracy, within, one, minute, , month]             |[compani, accutron, watch, introduc, 1960, guarante, accuraci, within, one, minut, , month]          |\n",
      "|2004-12-31|Jesse James          |EPITAPHS & TRIBUTES            |'Outlaw: \"Murdered by a traitor and a coward whose name is not worthy to appear here\"'                                  |Jeopardy!|4680       |$600 |Outlaw \"Murdered by a traitor and a coward whose name is not worthy to appear here\"                             |[outlaw, \"murdered, by, a, traitor, and, a, coward, whose, name, is, not, worthy, to, appear, here\"]                                   |[outlaw, \"murdered, traitor, coward, whose, name, worthy, appear, here\"]                                     |[outlaw, \"murder, traitor, coward, whose, name, worthi, appear, here\"]                               |\n",
      "|2004-12-31|imp                  |3-LETTER WORDS                 |'A small demon, or a mischievous child (who might be a little demon!)'                                                  |Jeopardy!|4680       |$600 |A small demon or a mischievous child who might be a little demon                                                |[a, small, demon, or, a, mischievous, child, who, might, be, a, little, demon]                                                         |[small, demon, mischievous, child, might, little, demon]                                                     |[small, demon, mischiev, child, might, littl, demon]                                                 |\n",
      "|2004-12-31|the International    |HISTORY                        |'Karl led the first of these Marxist organizational efforts; the second one began in 1889'                              |Jeopardy!|4680       |$800 |Karl led the first of these Marxist organizational efforts the second one began in 1889                         |[karl, led, the, first, of, these, marxist, organizational, efforts, the, second, one, began, in, 1889]                                |[karl, led, first, marxist, organizational, efforts, second, one, began, 1889]                               |[karl, led, first, marxist, organiz, effort, second, one, began, 1889]                               |\n",
      "|2004-12-31|(Lou) Gehrig         |ESPN's TOP 10 ALL-TIME ATHLETES|'No. 10: FB/LB for Columbia U. in the 1920s; MVP for the Yankees in '27 & '36; \"Gibraltar in Cleats\"'                   |Jeopardy!|4680       |$800 |No. 10 FB/LB for Columbia U. in the 1920s MVP for the Yankees in 27  36 \"Gibraltar in Cleats\"                   |[no., 10, fb/lb, for, columbia, u., in, the, 1920s, mvp, for, the, yankees, in, 27, , 36, \"gibraltar, in, cleats\"]                     |[no., 10, fb/lb, columbia, u., 1920s, mvp, yankees, 27, , 36, \"gibraltar, cleats\"]                           |[no., 10, fb/lb, columbia, u., 1920, mvp, yanke, 27, , 36, \"gibraltar, cleats\"]                      |\n",
      "+----------+---------------------+-------------------------------+------------------------------------------------------------------------------------------------------------------------+---------+-----------+-----+----------------------------------------------------------------------------------------------------------------+---------------------------------------------------------------------------------------------------------------------------------------+-------------------------------------------------------------------------------------------------------------+-----------------------------------------------------------------------------------------------------+\n",
      "only showing top 20 rows\n",
      "\n"
     ]
    }
   ],
   "source": [
    "jeopardyStemmed = jeopardyStopRemoved.withColumn(\"stemmed\", stemmer_udf(\"filtered\"))\n",
    "jeopardyStemmed.show(truncate=False)"
   ]
  },
  {
   "cell_type": "code",
   "execution_count": 19,
   "metadata": {},
   "outputs": [
    {
     "name": "stdout",
     "output_type": "stream",
     "text": [
      "+----------+---------------------+-------------------------------+------------------------------------------------------------------------------------------------------------------------+---------+-----------+-----+----------------------------------------------------------------------------------------------------------------+---------------------------------------------------------------------------------------------------------------------------------------+-------------------------------------------------------------------------------------------------------------+-----------------------------------------------------------------------------------------------------+------------------------------------------------------------------------------------------------------------------------------------------------------+\n",
      "|air_date  |answer               |category                       |question                                                                                                                |round    |show_number|value|stripped                                                                                                        |words                                                                                                                                  |filtered                                                                                                     |stemmed                                                                                              |rawFeatures                                                                                                                                           |\n",
      "+----------+---------------------+-------------------------------+------------------------------------------------------------------------------------------------------------------------+---------+-----------+-----+----------------------------------------------------------------------------------------------------------------+---------------------------------------------------------------------------------------------------------------------------------------+-------------------------------------------------------------------------------------------------------------+-----------------------------------------------------------------------------------------------------+------------------------------------------------------------------------------------------------------------------------------------------------------+\n",
      "|2004-12-31|Copernicus           |HISTORY                        |'For the last 8 years of his life, Galileo was under house arrest for espousing this man's theory'                      |Jeopardy!|4680       |$200 |For the last 8 years of his life Galileo was under house arrest for espousing this mans theory                  |[for, the, last, 8, years, of, his, life, galileo, was, under, house, arrest, for, espousing, this, mans, theory]                      |[last, 8, years, life, galileo, house, arrest, espousing, mans, theory]                                      |[last, 8, year, life, galileo, hous, arrest, espous, man, theori]                                    |(10000,[704,1222,2489,3477,3942,3989,7848,8230,8899,9826],[1.0,1.0,1.0,1.0,1.0,1.0,1.0,1.0,1.0,1.0])                                                  |\n",
      "|2004-12-31|Jim Thorpe           |ESPN's TOP 10 ALL-TIME ATHLETES|'No. 2: 1912 Olympian; football star at Carlisle Indian School; 6 MLB seasons with the Reds, Giants & Braves'           |Jeopardy!|4680       |$200 |No. 2 1912 Olympian football star at Carlisle Indian School 6 MLB seasons with the Reds Giants  Braves          |[no., 2, 1912, olympian, football, star, at, carlisle, indian, school, 6, mlb, seasons, with, the, reds, giants, , braves]             |[no., 2, 1912, olympian, football, star, carlisle, indian, school, 6, mlb, seasons, reds, giants, , braves]  |[no., 2, 1912, olympian, footbal, star, carlisl, indian, school, 6, mlb, season, red, giant, , brave]|(10000,[74,99,463,1241,1871,2657,3372,3613,4091,4180,4291,5170,6364,6675,7989,9091],[1.0,1.0,1.0,1.0,1.0,1.0,1.0,1.0,1.0,1.0,1.0,1.0,1.0,1.0,1.0,1.0])|\n",
      "|2004-12-31|Arizona              |EVERYBODY TALKS ABOUT IT...    |'The city of Yuma in this state has a record average of 4,055 hours of sunshine each year'                              |Jeopardy!|4680       |$200 |The city of Yuma in this state has a record average of 4055 hours of sunshine each year                         |[the, city, of, yuma, in, this, state, has, a, record, average, of, 4055, hours, of, sunshine, each, year]                             |[city, yuma, state, record, average, 4055, hours, sunshine, year]                                            |[citi, yuma, state, record, averag, 4055, hour, sunshin, year]                                       |(10000,[527,2286,4105,4569,5349,5373,5996,8899,9574],[1.0,1.0,1.0,1.0,1.0,1.0,1.0,1.0,1.0])                                                           |\n",
      "|2004-12-31|McDonald\\'s          |THE COMPANY LINE               |'In 1963, live on \"The Art Linkletter Show\", this company served its billionth burger'                                  |Jeopardy!|4680       |$200 |In 1963 live on \"The Art Linkletter Show\" this company served its billionth burger                              |[in, 1963, live, on, \"the, art, linkletter, show\", this, company, served, its, billionth, burger]                                      |[1963, live, \"the, art, linkletter, show\", company, served, billionth, burger]                               |[1963, live, \"the, art, linklett, show\", compani, serv, billionth, burger]                           |(10000,[262,288,493,1138,1302,2169,3200,3358,8310,9801],[1.0,1.0,1.0,1.0,1.0,1.0,1.0,1.0,1.0,1.0])                                                    |\n",
      "|2004-12-31|John Adams           |EPITAPHS & TRIBUTES            |'Signer of the Dec. of Indep., framer of the Constitution of Mass., second President of the United States'              |Jeopardy!|4680       |$200 |Signer of the Dec. of Indep. framer of the Constitution of Mass. second President of the United States          |[signer, of, the, dec., of, indep., framer, of, the, constitution, of, mass., second, president, of, the, united, states]              |[signer, dec., indep., framer, constitution, mass., second, president, united, states]                       |[signer, dec., indep., framer, constitut, mass., second, presid, unit, state]                        |(10000,[329,1716,1905,2660,3498,5349,5414,6335,7746,9439],[1.0,1.0,1.0,1.0,1.0,1.0,1.0,1.0,1.0,1.0])                                                  |\n",
      "|2004-12-31|the ant              |3-LETTER WORDS                 |'In the title of an Aesop fable, this insect shared billing with a grasshopper'                                         |Jeopardy!|4680       |$200 |In the title of an Aesop fable this insect shared billing with a grasshopper                                    |[in, the, title, of, an, aesop, fable, this, insect, shared, billing, with, a, grasshopper]                                            |[title, aesop, fable, insect, shared, billing, grasshopper]                                                  |[titl, aesop, fabl, insect, share, bill, grasshopp]                                                  |(10000,[826,1543,7985,8061,8135,9136,9593],[1.0,1.0,1.0,1.0,1.0,1.0,1.0])                                                                             |\n",
      "|2004-12-31|the Appian Way       |HISTORY                        |'Built in 312 B.C. to link Rome & the South of Italy, it's still in use today'                                          |Jeopardy!|4680       |$400 |Built in 312 B.C. to link Rome  the South of Italy its still in use today                                       |[built, in, 312, b.c., to, link, rome, , the, south, of, italy, its, still, in, use, today]                                            |[built, 312, b.c., link, rome, , south, italy, still, use, today]                                            |[built, 312, b.c., link, rome, , south, itali, still, use, today]                                    |(10000,[16,403,1564,1800,3372,3462,4489,5066,5399,6906,8125],[1.0,1.0,1.0,1.0,1.0,1.0,1.0,1.0,1.0,1.0,1.0])                                           |\n",
      "|2004-12-31|Michael Jordan       |ESPN's TOP 10 ALL-TIME ATHLETES|'No. 8: 30 steals for the Birmingham Barons; 2,306 steals for the Bulls'                                                |Jeopardy!|4680       |$400 |No. 8 30 steals for the Birmingham Barons 2306 steals for the Bulls                                             |[no., 8, 30, steals, for, the, birmingham, barons, 2306, steals, for, the, bulls]                                                      |[no., 8, 30, steals, birmingham, barons, 2306, steals, bulls]                                                |[no., 8, 30, steal, birmingham, baron, 2306, steal, bull]                                            |(10000,[419,945,1442,4180,5672,7346,8880,9826],[1.0,1.0,1.0,1.0,2.0,1.0,1.0,1.0])                                                                     |\n",
      "|2004-12-31|Washington           |EVERYBODY TALKS ABOUT IT...    |'In the winter of 1971-72, a record 1,122 inches of snow fell at Rainier Paradise Ranger Station in this state'         |Jeopardy!|4680       |$400 |In the winter of 1971-72 a record 1122 inches of snow fell at Rainier Paradise Ranger Station in this state     |[in, the, winter, of, 1971-72, a, record, 1122, inches, of, snow, fell, at, rainier, paradise, ranger, station, in, this, state]       |[winter, 1971-72, record, 1122, inches, snow, fell, rainier, paradise, ranger, station, state]               |[winter, 1971-72, record, 1122, inch, snow, fell, rainier, paradis, ranger, station, state]          |(10000,[78,814,2286,4119,4584,4831,5349,6320,6777,8630,9132,9230],[1.0,1.0,1.0,1.0,1.0,1.0,1.0,1.0,1.0,1.0,1.0,1.0])                                  |\n",
      "|2004-12-31|Crate & Barrel       |THE COMPANY LINE               |'This housewares store was named for the packaging its merchandise came in & was first displayed on'                    |Jeopardy!|4680       |$400 |This housewares store was named for the packaging its merchandise came in  was first displayed on               |[this, housewares, store, was, named, for, the, packaging, its, merchandise, came, in, , was, first, displayed, on]                    |[housewares, store, named, packaging, merchandise, came, , first, displayed]                                 |[housewar, store, name, packag, merchandis, came, , first, display]                                  |(10000,[15,3183,3372,4449,4743,5780,7276,8268,9402],[1.0,1.0,1.0,1.0,1.0,1.0,1.0,1.0,1.0])                                                            |\n",
      "|2004-12-31|Jackie Gleason       |EPITAPHS & TRIBUTES            |'\"And away we go\"'                                                                                                      |Jeopardy!|4680       |$400 |\"And away we go\"                                                                                                |[\"and, away, we, go\"]                                                                                                                  |[\"and, away, go\"]                                                                                            |[\"and, away, go\"]                                                                                    |(10000,[1387,3737,5834],[1.0,1.0,1.0])                                                                                                                |\n",
      "|2004-12-31|the cud              |3-LETTER WORDS                 |'Cows regurgitate this from the first stomach to the mouth & chew it again'                                             |Jeopardy!|4680       |$400 |Cows regurgitate this from the first stomach to the mouth  chew it again                                        |[cows, regurgitate, this, from, the, first, stomach, to, the, mouth, , chew, it, again]                                                |[cows, regurgitate, first, stomach, mouth, , chew]                                                           |[cow, regurgit, first, stomach, mouth, , chew]                                                       |(10000,[3183,3372,5392,5403,5433,5855,7315],[1.0,1.0,1.0,1.0,1.0,1.0,1.0])                                                                            |\n",
      "|2004-12-31|Ceylon (or Sri Lanka)|HISTORY                        |'In 1000 Rajaraja I of the Cholas battled to take this Indian Ocean island now known for its tea'                       |Jeopardy!|4680       |$600 |In 1000 Rajaraja I of the Cholas battled to take this Indian Ocean island now known for its tea                 |[in, 1000, rajaraja, i, of, the, cholas, battled, to, take, this, indian, ocean, island, now, known, for, its, tea]                    |[1000, rajaraja, cholas, battled, take, indian, ocean, island, known, tea]                                   |[1000, rajaraja, chola, battl, take, indian, ocean, island, known, tea]                              |(10000,[818,855,2385,2657,3740,4334,4606,5716,5875,6069],[1.0,1.0,1.0,1.0,1.0,1.0,1.0,1.0,1.0,1.0])                                                   |\n",
      "|2004-12-31|Jim Brown            |ESPN's TOP 10 ALL-TIME ATHLETES|'No. 1: Lettered in hoops, football & lacrosse at Syracuse & if you think he couldn't act, ask his 11 \"unclean\" buddies'|Jeopardy!|4680       |$600 |No. 1 Lettered in hoops football  lacrosse at Syracuse  if you think he couldnt act ask his 11 \"unclean\" buddies|[no., 1, lettered, in, hoops, football, , lacrosse, at, syracuse, , if, you, think, he, couldnt, act, ask, his, 11, \"unclean\", buddies]|[no., 1, lettered, hoops, football, , lacrosse, syracuse, , think, couldnt, act, ask, 11, \"unclean\", buddies]|[no., 1, letter, hoop, footbal, , lacross, syracus, , think, couldnt, act, ask, 11, \"unclean\", buddi]|(10000,[456,1564,3372,3613,4180,4378,4611,4744,4811,4815,5716,6114,6343,6578,9531],[1.0,1.0,2.0,1.0,1.0,1.0,1.0,1.0,1.0,1.0,1.0,1.0,1.0,1.0,1.0])     |\n",
      "|2004-12-31|the UV index         |EVERYBODY TALKS ABOUT IT...    |'On June 28, 1994 the nat'l weather service began issuing this index that rates the intensity of the sun's radiation'   |Jeopardy!|4680       |$600 |On June 28 1994 the natl weather service began issuing this index that rates the intensity of the suns radiation|[on, june, 28, 1994, the, natl, weather, service, began, issuing, this, index, that, rates, the, intensity, of, the, suns, radiation]  |[june, 28, 1994, natl, weather, service, began, issuing, index, rates, intensity, suns, radiation]           |[june, 28, 1994, natl, weather, servic, began, issu, index, rate, intens, sun, radiat]               |(10000,[49,253,307,950,1794,2345,2790,4574,4954,7711,8429,8471,9172],[1.0,1.0,1.0,1.0,1.0,1.0,1.0,1.0,1.0,1.0,1.0,1.0,1.0])                           |\n",
      "|2004-12-31|Bulova               |THE COMPANY LINE               |'This company's Accutron watch, introduced in 1960, had a guarantee of accuracy to within one minute a  month'          |Jeopardy!|4680       |$600 |This companys Accutron watch introduced in 1960 had a guarantee of accuracy to within one minute a  month       |[this, companys, accutron, watch, introduced, in, 1960, had, a, guarantee, of, accuracy, to, within, one, minute, a, , month]          |[companys, accutron, watch, introduced, 1960, guarantee, accuracy, within, one, minute, , month]             |[compani, accutron, watch, introduc, 1960, guarante, accuraci, within, one, minut, , month]          |(10000,[2044,2169,2412,3202,3339,3372,4589,5711,6129,6667,7222,8844],[1.0,1.0,1.0,1.0,1.0,1.0,1.0,1.0,1.0,1.0,1.0,1.0])                               |\n",
      "|2004-12-31|Jesse James          |EPITAPHS & TRIBUTES            |'Outlaw: \"Murdered by a traitor and a coward whose name is not worthy to appear here\"'                                  |Jeopardy!|4680       |$600 |Outlaw \"Murdered by a traitor and a coward whose name is not worthy to appear here\"                             |[outlaw, \"murdered, by, a, traitor, and, a, coward, whose, name, is, not, worthy, to, appear, here\"]                                   |[outlaw, \"murdered, traitor, coward, whose, name, worthy, appear, here\"]                                     |[outlaw, \"murder, traitor, coward, whose, name, worthi, appear, here\"]                               |(10000,[15,3705,4929,7867,8661,9120,9477,9662,9716],[1.0,1.0,1.0,1.0,1.0,1.0,1.0,1.0,1.0])                                                            |\n",
      "|2004-12-31|imp                  |3-LETTER WORDS                 |'A small demon, or a mischievous child (who might be a little demon!)'                                                  |Jeopardy!|4680       |$600 |A small demon or a mischievous child who might be a little demon                                                |[a, small, demon, or, a, mischievous, child, who, might, be, a, little, demon]                                                         |[small, demon, mischievous, child, might, little, demon]                                                     |[small, demon, mischiev, child, might, littl, demon]                                                 |(10000,[525,1742,1810,4013,4985,8735],[2.0,1.0,1.0,1.0,1.0,1.0])                                                                                      |\n",
      "|2004-12-31|the International    |HISTORY                        |'Karl led the first of these Marxist organizational efforts; the second one began in 1889'                              |Jeopardy!|4680       |$800 |Karl led the first of these Marxist organizational efforts the second one began in 1889                         |[karl, led, the, first, of, these, marxist, organizational, efforts, the, second, one, began, in, 1889]                                |[karl, led, first, marxist, organizational, efforts, second, one, began, 1889]                               |[karl, led, first, marxist, organiz, effort, second, one, began, 1889]                               |(10000,[1751,1905,2044,2126,2345,3015,3183,3526,3529,4106],[1.0,1.0,1.0,1.0,1.0,1.0,1.0,1.0,1.0,1.0])                                                 |\n",
      "|2004-12-31|(Lou) Gehrig         |ESPN's TOP 10 ALL-TIME ATHLETES|'No. 10: FB/LB for Columbia U. in the 1920s; MVP for the Yankees in '27 & '36; \"Gibraltar in Cleats\"'                   |Jeopardy!|4680       |$800 |No. 10 FB/LB for Columbia U. in the 1920s MVP for the Yankees in 27  36 \"Gibraltar in Cleats\"                   |[no., 10, fb/lb, for, columbia, u., in, the, 1920s, mvp, for, the, yankees, in, 27, , 36, \"gibraltar, in, cleats\"]                     |[no., 10, fb/lb, columbia, u., 1920s, mvp, yankees, 27, , 36, \"gibraltar, cleats\"]                           |[no., 10, fb/lb, columbia, u., 1920, mvp, yanke, 27, , 36, \"gibraltar, cleats\"]                      |(10000,[89,2711,2728,3191,3372,4180,4553,5270,7502,8154,9058,9197,9955],[1.0,1.0,1.0,1.0,1.0,1.0,1.0,1.0,1.0,1.0,1.0,1.0,1.0])                        |\n",
      "+----------+---------------------+-------------------------------+------------------------------------------------------------------------------------------------------------------------+---------+-----------+-----+----------------------------------------------------------------------------------------------------------------+---------------------------------------------------------------------------------------------------------------------------------------+-------------------------------------------------------------------------------------------------------------+-----------------------------------------------------------------------------------------------------+------------------------------------------------------------------------------------------------------------------------------------------------------+\n",
      "only showing top 20 rows\n",
      "\n"
     ]
    }
   ],
   "source": [
    "hashingTF = HashingTF(inputCol=\"stemmed\", outputCol=\"rawFeatures\", numFeatures=10000)\n",
    "featurizedData = hashingTF.transform(jeopardyStemmed)\n",
    "featurizedData.show(truncate=False)"
   ]
  }
 ],
 "metadata": {
  "kernelspec": {
   "display_name": "Python 3",
   "language": "python",
   "name": "python3"
  },
  "language_info": {
   "codemirror_mode": {
    "name": "ipython",
    "version": 3
   },
   "file_extension": ".py",
   "mimetype": "text/x-python",
   "name": "python",
   "nbconvert_exporter": "python",
   "pygments_lexer": "ipython3",
   "version": "3.6.3"
  }
 },
 "nbformat": 4,
 "nbformat_minor": 2
}
