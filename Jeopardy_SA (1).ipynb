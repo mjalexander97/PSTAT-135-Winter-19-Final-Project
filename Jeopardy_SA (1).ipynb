{
 "cells": [
  {
   "cell_type": "code",
   "execution_count": 59,
   "metadata": {},
   "outputs": [],
   "source": [
    "from pyspark import SparkContext\n",
    "from pyspark.sql import SQLContext\n",
    "from pyspark.sql import Row\n",
    "from pyspark.sql.types import *       # for datatype conversion\n",
    "from pyspark.sql.functions import *   # for col() function\n",
    "import pandas as pd\n",
    "from pyspark.sql import SparkSession\n",
    "from pyspark.ml.feature import StopWordsRemover\n",
    "from pyspark.ml.feature import Tokenizer\n",
    "import re\n",
    "import pyspark.sql.functions as f\n",
    "from pyspark.ml.feature import HashingTF, IDF, Tokenizer\n",
    "from numpy import array\n",
    "from math import sqrt\n",
    "from pyspark.ml.clustering import KMeans\n",
    "from pyspark.ml.classification import LogisticRegression\n",
    "from pyspark.sql.types import DoubleType\n",
    "from pyspark.ml.feature import StringIndexer\n",
    "\n",
    "\n",
    "sc = SparkContext.getOrCreate()\n",
    "sqlCtx = SQLContext(sc)\n",
    "\n",
    "spark = SparkSession \\\n",
    "    .builder \\\n",
    "    .master(\"local\") \\\n",
    "    .appName(\"Jeopardy Calculation\") \\\n",
    "    .config(\"spark.executor.memory\", '2g') \\\n",
    "    .config('spark.executor.cores', '1') \\\n",
    "    .config('spark.cores.max', '1') \\\n",
    "    .config(\"spark.driver.memory\",'1g') \\\n",
    "    .getOrCreate()"
   ]
  },
  {
   "cell_type": "code",
   "execution_count": 2,
   "metadata": {},
   "outputs": [],
   "source": [
    "#reading in the jeopardy data set\n",
    "jeopardy = spark.read.json(\"JEOPARDY_QUESTIONS1-Copy1.json\")"
   ]
  },
  {
   "cell_type": "code",
   "execution_count": 3,
   "metadata": {},
   "outputs": [
    {
     "name": "stdout",
     "output_type": "stream",
     "text": [
      "+----------+--------------------+--------------------+--------------------+----------------+-----------+------+\n",
      "|  air_date|              answer|            category|            question|           round|show_number| value|\n",
      "+----------+--------------------+--------------------+--------------------+----------------+-----------+------+\n",
      "|2004-12-31|          Copernicus|             HISTORY|'For the last 8 y...|       Jeopardy!|       4680|  $200|\n",
      "|2004-12-31|          Jim Thorpe|ESPN's TOP 10 ALL...|'No. 2: 1912 Olym...|       Jeopardy!|       4680|  $200|\n",
      "|2004-12-31|             Arizona|EVERYBODY TALKS A...|'The city of Yuma...|       Jeopardy!|       4680|  $200|\n",
      "|2004-12-31|         McDonald\\'s|    THE COMPANY LINE|'In 1963, live on...|       Jeopardy!|       4680|  $200|\n",
      "|2004-12-31|          John Adams| EPITAPHS & TRIBUTES|'Signer of the De...|       Jeopardy!|       4680|  $200|\n",
      "|2004-12-31|             the ant|      3-LETTER WORDS|'In the title of ...|       Jeopardy!|       4680|  $200|\n",
      "|2004-12-31|      the Appian Way|             HISTORY|'Built in 312 B.C...|       Jeopardy!|       4680|  $400|\n",
      "|2004-12-31|      Michael Jordan|ESPN's TOP 10 ALL...|'No. 8: 30 steals...|       Jeopardy!|       4680|  $400|\n",
      "|2004-12-31|          Washington|EVERYBODY TALKS A...|'In the winter of...|       Jeopardy!|       4680|  $400|\n",
      "|2004-12-31|      Crate & Barrel|    THE COMPANY LINE|'This housewares ...|       Jeopardy!|       4680|  $400|\n",
      "|2004-12-31|      Jackie Gleason| EPITAPHS & TRIBUTES|  '\"And away we go\"'|       Jeopardy!|       4680|  $400|\n",
      "|2004-12-31|             the cud|      3-LETTER WORDS|'Cows regurgitate...|       Jeopardy!|       4680|  $400|\n",
      "|2004-12-31|Ceylon (or Sri La...|             HISTORY|'In 1000 Rajaraja...|       Jeopardy!|       4680|  $600|\n",
      "|2004-12-31|           Jim Brown|ESPN's TOP 10 ALL...|'No. 1: Lettered ...|       Jeopardy!|       4680|  $600|\n",
      "|2004-12-31|        the UV index|EVERYBODY TALKS A...|'On June 28, 1994...|       Jeopardy!|       4680|  $600|\n",
      "|2004-12-31|              Bulova|    THE COMPANY LINE|'This company's A...|       Jeopardy!|       4680|  $600|\n",
      "|2004-12-31|         Jesse James| EPITAPHS & TRIBUTES|'Outlaw: \"Murdere...|       Jeopardy!|       4680|  $600|\n",
      "|2004-12-31|                 imp|      3-LETTER WORDS|'A small demon, o...|       Jeopardy!|       4680|  $600|\n",
      "|2004-12-31|   the International|             HISTORY|'Karl led the fir...|       Jeopardy!|       4680|  $800|\n",
      "|2004-12-31|        (Lou) Gehrig|ESPN's TOP 10 ALL...|'No. 10: FB/LB fo...|       Jeopardy!|       4680|  $800|\n",
      "|2004-12-31|             Morocco|EVERYBODY TALKS A...|'Africa's lowest ...|       Jeopardy!|       4680|  $800|\n",
      "|2004-12-31|       (Paul) Bonwit|    THE COMPANY LINE|'Edward Teller & ...|       Jeopardy!|       4680|  $800|\n",
      "|2004-12-31|Hattie McDaniel (...| EPITAPHS & TRIBUTES|'1939 Oscar winne...|       Jeopardy!|       4680|$2,000|\n",
      "|2004-12-31|                 era|      3-LETTER WORDS|'In geologic time...|       Jeopardy!|       4680|  $800|\n",
      "|2004-12-31|  the Congress Party|             HISTORY|'This Asian polit...|       Jeopardy!|       4680| $1000|\n",
      "|2004-12-31|  (Wilt) Chamberlain|ESPN's TOP 10 ALL...|'No. 5: Only cent...|       Jeopardy!|       4680| $1000|\n",
      "|2004-12-31|                  K2|    THE COMPANY LINE|'The Kirschner br...|       Jeopardy!|       4680| $1000|\n",
      "|2004-12-31|         Ethan Allen| EPITAPHS & TRIBUTES|'Revolutionary Wa...|       Jeopardy!|       4680| $1000|\n",
      "|2004-12-31|                 ply|      3-LETTER WORDS|'A single layer o...|       Jeopardy!|       4680| $1000|\n",
      "|2004-12-31|              Horton|DR. SEUSS AT THE ...|'<a href=\"http://...|Double Jeopardy!|       4680|  $400|\n",
      "+----------+--------------------+--------------------+--------------------+----------------+-----------+------+\n",
      "only showing top 30 rows\n",
      "\n"
     ]
    }
   ],
   "source": [
    "#shows first 30 observations of jeopardy data set\n",
    "jeopardy.show(30)"
   ]
  },
  {
   "cell_type": "code",
   "execution_count": 4,
   "metadata": {},
   "outputs": [
    {
     "name": "stdout",
     "output_type": "stream",
     "text": [
      "+--------------------+-----+\n",
      "|            category|count|\n",
      "+--------------------+-----+\n",
      "|      BEFORE & AFTER|  547|\n",
      "|             SCIENCE|  519|\n",
      "|          LITERATURE|  496|\n",
      "|    AMERICAN HISTORY|  418|\n",
      "|           POTPOURRI|  401|\n",
      "|       WORLD HISTORY|  377|\n",
      "|        WORD ORIGINS|  371|\n",
      "|COLLEGES & UNIVER...|  351|\n",
      "|             HISTORY|  349|\n",
      "|              SPORTS|  342|\n",
      "|         U.S. CITIES|  339|\n",
      "|     WORLD GEOGRAPHY|  338|\n",
      "|     BODIES OF WATER|  327|\n",
      "|             ANIMALS|  324|\n",
      "|      STATE CAPITALS|  314|\n",
      "| BUSINESS & INDUSTRY|  311|\n",
      "|             ISLANDS|  301|\n",
      "|      WORLD CAPITALS|  300|\n",
      "|      U.S. GEOGRAPHY|  299|\n",
      "|            RELIGION|  297|\n",
      "+--------------------+-----+\n",
      "only showing top 20 rows\n",
      "\n"
     ]
    }
   ],
   "source": [
    "#shows top 20 categories with highest count of observations, and the counts associated with them\n",
    "j_categoryCount = jeopardy.groupBy(\"category\").count()\n",
    "j_categoryCount.sort(desc(\"count\")).show()"
   ]
  },
  {
   "cell_type": "code",
   "execution_count": 5,
   "metadata": {},
   "outputs": [
    {
     "data": {
      "text/plain": [
       "27995"
      ]
     },
     "execution_count": 5,
     "metadata": {},
     "output_type": "execute_result"
    }
   ],
   "source": [
    "#This is the number of categories in the dataset\n",
    "j_categoryCount.count()"
   ]
  },
  {
   "cell_type": "code",
   "execution_count": 7,
   "metadata": {},
   "outputs": [
    {
     "data": {
      "text/plain": [
       "145"
      ]
     },
     "execution_count": 7,
     "metadata": {},
     "output_type": "execute_result"
    }
   ],
   "source": [
    "#This is the number of categories in the dataset which have greater than 50 observations\n",
    "j_categoryCount = jeopardy.groupBy(\"category\").count()\n",
    "count100 = j_categoryCount.sort(desc(\"count\")).filter(j_categoryCount[\"count\"] > 100).count()\n",
    "count100"
   ]
  },
  {
   "cell_type": "code",
   "execution_count": 8,
   "metadata": {},
   "outputs": [
    {
     "data": {
      "text/plain": [
       "['BEFORE & AFTER',\n",
       " 'SCIENCE',\n",
       " 'LITERATURE',\n",
       " 'AMERICAN HISTORY',\n",
       " 'POTPOURRI',\n",
       " 'WORLD HISTORY',\n",
       " 'WORD ORIGINS',\n",
       " 'COLLEGES & UNIVERSITIES',\n",
       " 'HISTORY',\n",
       " 'SPORTS',\n",
       " 'U.S. CITIES',\n",
       " 'WORLD GEOGRAPHY',\n",
       " 'BODIES OF WATER',\n",
       " 'ANIMALS',\n",
       " 'STATE CAPITALS',\n",
       " 'BUSINESS & INDUSTRY',\n",
       " 'ISLANDS',\n",
       " 'WORLD CAPITALS',\n",
       " 'U.S. GEOGRAPHY',\n",
       " 'RELIGION',\n",
       " 'OPERA',\n",
       " 'SHAKESPEARE',\n",
       " 'LANGUAGES',\n",
       " 'BALLET',\n",
       " 'TELEVISION',\n",
       " 'FICTIONAL CHARACTERS',\n",
       " 'TRANSPORTATION',\n",
       " 'RHYME TIME',\n",
       " 'PEOPLE',\n",
       " 'STUPID ANSWERS',\n",
       " 'ART & ARTISTS',\n",
       " 'THE BIBLE',\n",
       " 'ART',\n",
       " 'BOOKS & AUTHORS',\n",
       " 'U.S. HISTORY',\n",
       " 'FOOD',\n",
       " 'MUSEUMS',\n",
       " 'AMERICANA',\n",
       " 'SCIENCE & NATURE',\n",
       " 'COMMON BONDS',\n",
       " 'HOLIDAYS & OBSERVANCES',\n",
       " 'GEOGRAPHY',\n",
       " '3-LETTER WORDS',\n",
       " 'ANNUAL EVENTS',\n",
       " 'AMERICAN LITERATURE',\n",
       " 'CLASSICAL MUSIC',\n",
       " 'AUTHORS',\n",
       " 'POP MUSIC',\n",
       " 'POETS & POETRY',\n",
       " 'QUOTATIONS',\n",
       " 'HODGEPODGE',\n",
       " 'MYTHOLOGY',\n",
       " 'NONFICTION',\n",
       " 'THE MOVIES',\n",
       " 'WORLD CITIES',\n",
       " 'MUSICAL INSTRUMENTS',\n",
       " 'AROUND THE WORLD',\n",
       " 'THE CIVIL WAR',\n",
       " 'MUSIC',\n",
       " 'U.S. PRESIDENTS',\n",
       " 'COMPOSERS',\n",
       " 'ASTRONOMY',\n",
       " 'FOOD & DRINK',\n",
       " '4-LETTER WORDS',\n",
       " 'BIOLOGY',\n",
       " 'HISTORIC NAMES',\n",
       " 'MOUNTAINS',\n",
       " 'POTENT POTABLES',\n",
       " 'HOMOPHONES',\n",
       " 'EUROPEAN HISTORY',\n",
       " 'MEDICINE',\n",
       " 'SCIENTISTS',\n",
       " 'ORGANIZATIONS',\n",
       " 'EXPLORERS',\n",
       " 'ARCHITECTURE',\n",
       " 'WEIGHTS & MEASURES',\n",
       " 'FIRST LADIES',\n",
       " 'TRAVEL & TOURISM',\n",
       " 'FRUITS & VEGETABLES',\n",
       " 'MAGAZINES',\n",
       " 'THE BODY HUMAN',\n",
       " 'IN THE DICTIONARY',\n",
       " 'FAMOUS AMERICANS',\n",
       " 'AWARDS',\n",
       " 'ZOOLOGY',\n",
       " 'NATURE',\n",
       " 'VOCABULARY',\n",
       " 'FOREIGN WORDS & PHRASES',\n",
       " 'FASHION',\n",
       " 'THEATRE',\n",
       " '5-LETTER WORDS',\n",
       " '19th CENTURY AMERICA',\n",
       " 'CHEMISTRY',\n",
       " 'WORLD LEADERS',\n",
       " 'PHYSICS',\n",
       " 'GOVERNMENT & POLITICS',\n",
       " 'U.S. STATES',\n",
       " 'ABBREV.',\n",
       " 'GENERAL SCIENCE',\n",
       " 'ARTISTS',\n",
       " 'NOTABLE NAMES',\n",
       " 'THE AMERICAN REVOLUTION',\n",
       " '10-LETTER WORDS',\n",
       " 'FAMOUS NAMES',\n",
       " 'ANATOMY',\n",
       " 'ACTORS & ACTRESSES',\n",
       " 'LAKES & RIVERS',\n",
       " 'COUNTRIES OF THE WORLD',\n",
       " 'BIRDS',\n",
       " 'ODDS & ENDS',\n",
       " 'POP CULTURE',\n",
       " 'PEOPLE IN HISTORY',\n",
       " 'FAMILIAR PHRASES',\n",
       " 'HAIL TO THE CHIEF',\n",
       " 'POETRY',\n",
       " 'SIGNS & SYMBOLS',\n",
       " 'HEALTH & MEDICINE',\n",
       " 'MAMMALS',\n",
       " 'U.S.A.',\n",
       " 'POLITICIANS',\n",
       " 'BOTANY',\n",
       " 'QUOTES',\n",
       " 'INVENTORS',\n",
       " 'CLASSICAL COMPOSERS',\n",
       " 'LETTER PERFECT',\n",
       " 'HISTORIC AMERICANS',\n",
       " 'SCULPTURE',\n",
       " 'SINGERS',\n",
       " 'THE OLD TESTAMENT',\n",
       " 'ROYALTY',\n",
       " 'MUSICAL THEATRE',\n",
       " 'DOUBLE TALK',\n",
       " 'COLORS',\n",
       " 'WORLD LITERATURE',\n",
       " 'EUROPE',\n",
       " 'BODY LANGUAGE',\n",
       " 'ARCHAEOLOGY',\n",
       " 'THE ELEMENTS',\n",
       " 'TECHNOLOGY',\n",
       " 'MIDDLE NAMES',\n",
       " 'PLAYWRIGHTS',\n",
       " 'THE OSCARS',\n",
       " 'FAMOUS WOMEN',\n",
       " 'ANCIENT HISTORY',\n",
       " 'LIBRARIES']"
      ]
     },
     "execution_count": 8,
     "metadata": {},
     "output_type": "execute_result"
    }
   ],
   "source": [
    "#This is a list of all categories which have a count greater than 50\n",
    "top_categories = list(j_categoryCount.sort(desc(\"count\")).select(\"category\").limit(count100).toPandas().category)\n",
    "top_categories"
   ]
  },
  {
   "cell_type": "code",
   "execution_count": 9,
   "metadata": {},
   "outputs": [
    {
     "name": "stdout",
     "output_type": "stream",
     "text": [
      "+----------+--------------------+--------------+--------------------+---------+-----------+-----+\n",
      "|  air_date|              answer|      category|            question|    round|show_number|value|\n",
      "+----------+--------------------+--------------+--------------------+---------+-----------+-----+\n",
      "|2004-12-31|          Copernicus|       HISTORY|'For the last 8 y...|Jeopardy!|       4680| $200|\n",
      "|2004-12-31|             the ant|3-LETTER WORDS|'In the title of ...|Jeopardy!|       4680| $200|\n",
      "|2004-12-31|      the Appian Way|       HISTORY|'Built in 312 B.C...|Jeopardy!|       4680| $400|\n",
      "|2004-12-31|             the cud|3-LETTER WORDS|'Cows regurgitate...|Jeopardy!|       4680| $400|\n",
      "|2004-12-31|Ceylon (or Sri La...|       HISTORY|'In 1000 Rajaraja...|Jeopardy!|       4680| $600|\n",
      "+----------+--------------------+--------------+--------------------+---------+-----------+-----+\n",
      "only showing top 5 rows\n",
      "\n"
     ]
    }
   ],
   "source": [
    "#Shows 5 observations in our new dataset that only contains categories that have greater than 50 osbervations\n",
    "jeo_f = jeopardy.where(col(\"category\").isin(top_categories))\n",
    "jeo_f.show(5)"
   ]
  },
  {
   "cell_type": "code",
   "execution_count": 10,
   "metadata": {},
   "outputs": [
    {
     "data": {
      "text/plain": [
       "29252"
      ]
     },
     "execution_count": 10,
     "metadata": {},
     "output_type": "execute_result"
    }
   ],
   "source": [
    "jeo_f.count()"
   ]
  },
  {
   "cell_type": "code",
   "execution_count": 3,
   "metadata": {},
   "outputs": [
    {
     "data": {
      "text/plain": [
       "DataFrame[air_date: string, answer: string, category: string, question: string, round: string, show_number: string, value: string, stripped: string, words: array<string>, filtered: array<string>]"
      ]
     },
     "execution_count": 3,
     "metadata": {},
     "output_type": "execute_result"
    }
   ],
   "source": [
    "#stripping punctuation, tokenizing, and stop word removing for the whole dataset\n",
    "#jeopardy = jeopardy.withColumn(\"stripped\", f.regexp_replace(f.col(\"question\"), \"[\\!@#$%^&*)(><,';:]\", \"\"))\n",
    "#jeopardy.cache()\n",
    "#tokenizer = Tokenizer(inputCol = \"stripped\", outputCol = \"words\")\n",
    "#tokenized = tokenizer.transform(jeopardy)\n",
    "#tokenized.cache()\n",
    "#remover = StopWordsRemover(inputCol=\"words\", outputCol=\"filtered\")\n",
    "#jeopardyStopRemoved = remover.transform(tokenized)\n",
    "#jeopardyStopRemoved.cache()"
   ]
  },
  {
   "cell_type": "code",
   "execution_count": 5,
   "metadata": {},
   "outputs": [
    {
     "name": "stdout",
     "output_type": "stream",
     "text": [
      "+--------------------------------------------------------------------------------------------------+\n",
      "|question                                                                                          |\n",
      "+--------------------------------------------------------------------------------------------------+\n",
      "|'For the last 8 years of his life, Galileo was under house arrest for espousing this man's theory'|\n",
      "+--------------------------------------------------------------------------------------------------+\n",
      "only showing top 1 row\n",
      "\n"
     ]
    }
   ],
   "source": [
    "#jeopardy.select(\"question\").show(1,truncate=False)"
   ]
  },
  {
   "cell_type": "code",
   "execution_count": 4,
   "metadata": {},
   "outputs": [
    {
     "name": "stdout",
     "output_type": "stream",
     "text": [
      "+-----------------------------------------------------------------------+\n",
      "|filtered                                                               |\n",
      "+-----------------------------------------------------------------------+\n",
      "|[last, 8, years, life, galileo, house, arrest, espousing, mans, theory]|\n",
      "+-----------------------------------------------------------------------+\n",
      "only showing top 1 row\n",
      "\n"
     ]
    }
   ],
   "source": [
    "#jeopardyStopRemoved.select(\"filtered\").show(1,truncate=False)"
   ]
  },
  {
   "cell_type": "code",
   "execution_count": 11,
   "metadata": {},
   "outputs": [
    {
     "data": {
      "text/plain": [
       "DataFrame[air_date: string, answer: string, category: string, question: string, round: string, show_number: string, value: string, stripped: string, words: array<string>, filtered: array<string>]"
      ]
     },
     "execution_count": 11,
     "metadata": {},
     "output_type": "execute_result"
    }
   ],
   "source": [
    "#stripping punctuation, tokenizing, and stop word removing for the modified dataset\n",
    "jeo_fpunc = jeo_f.withColumn(\"stripped\", f.regexp_replace(f.col(\"question\"), \"[\\!@#$%^&*)(><,';:]\", \"\"))\n",
    "jeo_fpunc.cache()\n",
    "tokenizer = Tokenizer(inputCol = \"stripped\", outputCol = \"words\")\n",
    "tokenized_f = tokenizer.transform(jeo_fpunc)\n",
    "tokenized_f.cache()\n",
    "remover = StopWordsRemover(inputCol=\"words\", outputCol=\"filtered\")\n",
    "jeo_fStopRemoved = remover.transform(tokenized_f)\n",
    "jeo_fStopRemoved.cache()"
   ]
  },
  {
   "cell_type": "code",
   "execution_count": 12,
   "metadata": {},
   "outputs": [],
   "source": [
    "from nltk.stem.porter import *\n",
    "stemmer = PorterStemmer()"
   ]
  },
  {
   "cell_type": "code",
   "execution_count": 13,
   "metadata": {},
   "outputs": [],
   "source": [
    "def stem(in_vec):\n",
    "    out_vec = []\n",
    "    for t in in_vec:\n",
    "        t_stem = stemmer.stem(t)\n",
    "        out_vec.append(t_stem)       \n",
    "    return out_vec\n"
   ]
  },
  {
   "cell_type": "code",
   "execution_count": 14,
   "metadata": {},
   "outputs": [],
   "source": [
    "from pyspark.sql.types import *\n",
    "stemmer_udf = udf(lambda x: stem(x), ArrayType(StringType()))"
   ]
  },
  {
   "cell_type": "code",
   "execution_count": 50,
   "metadata": {},
   "outputs": [
    {
     "name": "stdout",
     "output_type": "stream",
     "text": [
      "+----------+---------------------+-------------------------------+------------------------------------------------------------------------------------------------------------------------+---------+-----------+-----+----------------------------------------------------------------------------------------------------------------+---------------------------------------------------------------------------------------------------------------------------------------+-------------------------------------------------------------------------------------------------------------+-----------------------------------------------------------------------------------------------------+\n",
      "|air_date  |answer               |category                       |question                                                                                                                |round    |show_number|value|stripped                                                                                                        |words                                                                                                                                  |filtered                                                                                                     |stemmed                                                                                              |\n",
      "+----------+---------------------+-------------------------------+------------------------------------------------------------------------------------------------------------------------+---------+-----------+-----+----------------------------------------------------------------------------------------------------------------+---------------------------------------------------------------------------------------------------------------------------------------+-------------------------------------------------------------------------------------------------------------+-----------------------------------------------------------------------------------------------------+\n",
      "|2004-12-31|Copernicus           |HISTORY                        |'For the last 8 years of his life, Galileo was under house arrest for espousing this man's theory'                      |Jeopardy!|4680       |$200 |For the last 8 years of his life Galileo was under house arrest for espousing this mans theory                  |[for, the, last, 8, years, of, his, life, galileo, was, under, house, arrest, for, espousing, this, mans, theory]                      |[last, 8, years, life, galileo, house, arrest, espousing, mans, theory]                                      |[last, 8, year, life, galileo, hous, arrest, espous, man, theori]                                    |\n",
      "|2004-12-31|Jim Thorpe           |ESPN's TOP 10 ALL-TIME ATHLETES|'No. 2: 1912 Olympian; football star at Carlisle Indian School; 6 MLB seasons with the Reds, Giants & Braves'           |Jeopardy!|4680       |$200 |No. 2 1912 Olympian football star at Carlisle Indian School 6 MLB seasons with the Reds Giants  Braves          |[no., 2, 1912, olympian, football, star, at, carlisle, indian, school, 6, mlb, seasons, with, the, reds, giants, , braves]             |[no., 2, 1912, olympian, football, star, carlisle, indian, school, 6, mlb, seasons, reds, giants, , braves]  |[no., 2, 1912, olympian, footbal, star, carlisl, indian, school, 6, mlb, season, red, giant, , brave]|\n",
      "|2004-12-31|Arizona              |EVERYBODY TALKS ABOUT IT...    |'The city of Yuma in this state has a record average of 4,055 hours of sunshine each year'                              |Jeopardy!|4680       |$200 |The city of Yuma in this state has a record average of 4055 hours of sunshine each year                         |[the, city, of, yuma, in, this, state, has, a, record, average, of, 4055, hours, of, sunshine, each, year]                             |[city, yuma, state, record, average, 4055, hours, sunshine, year]                                            |[citi, yuma, state, record, averag, 4055, hour, sunshin, year]                                       |\n",
      "|2004-12-31|McDonald\\'s          |THE COMPANY LINE               |'In 1963, live on \"The Art Linkletter Show\", this company served its billionth burger'                                  |Jeopardy!|4680       |$200 |In 1963 live on \"The Art Linkletter Show\" this company served its billionth burger                              |[in, 1963, live, on, \"the, art, linkletter, show\", this, company, served, its, billionth, burger]                                      |[1963, live, \"the, art, linkletter, show\", company, served, billionth, burger]                               |[1963, live, \"the, art, linklett, show\", compani, serv, billionth, burger]                           |\n",
      "|2004-12-31|John Adams           |EPITAPHS & TRIBUTES            |'Signer of the Dec. of Indep., framer of the Constitution of Mass., second President of the United States'              |Jeopardy!|4680       |$200 |Signer of the Dec. of Indep. framer of the Constitution of Mass. second President of the United States          |[signer, of, the, dec., of, indep., framer, of, the, constitution, of, mass., second, president, of, the, united, states]              |[signer, dec., indep., framer, constitution, mass., second, president, united, states]                       |[signer, dec., indep., framer, constitut, mass., second, presid, unit, state]                        |\n",
      "|2004-12-31|the ant              |3-LETTER WORDS                 |'In the title of an Aesop fable, this insect shared billing with a grasshopper'                                         |Jeopardy!|4680       |$200 |In the title of an Aesop fable this insect shared billing with a grasshopper                                    |[in, the, title, of, an, aesop, fable, this, insect, shared, billing, with, a, grasshopper]                                            |[title, aesop, fable, insect, shared, billing, grasshopper]                                                  |[titl, aesop, fabl, insect, share, bill, grasshopp]                                                  |\n",
      "|2004-12-31|the Appian Way       |HISTORY                        |'Built in 312 B.C. to link Rome & the South of Italy, it's still in use today'                                          |Jeopardy!|4680       |$400 |Built in 312 B.C. to link Rome  the South of Italy its still in use today                                       |[built, in, 312, b.c., to, link, rome, , the, south, of, italy, its, still, in, use, today]                                            |[built, 312, b.c., link, rome, , south, italy, still, use, today]                                            |[built, 312, b.c., link, rome, , south, itali, still, use, today]                                    |\n",
      "|2004-12-31|Michael Jordan       |ESPN's TOP 10 ALL-TIME ATHLETES|'No. 8: 30 steals for the Birmingham Barons; 2,306 steals for the Bulls'                                                |Jeopardy!|4680       |$400 |No. 8 30 steals for the Birmingham Barons 2306 steals for the Bulls                                             |[no., 8, 30, steals, for, the, birmingham, barons, 2306, steals, for, the, bulls]                                                      |[no., 8, 30, steals, birmingham, barons, 2306, steals, bulls]                                                |[no., 8, 30, steal, birmingham, baron, 2306, steal, bull]                                            |\n",
      "|2004-12-31|Washington           |EVERYBODY TALKS ABOUT IT...    |'In the winter of 1971-72, a record 1,122 inches of snow fell at Rainier Paradise Ranger Station in this state'         |Jeopardy!|4680       |$400 |In the winter of 1971-72 a record 1122 inches of snow fell at Rainier Paradise Ranger Station in this state     |[in, the, winter, of, 1971-72, a, record, 1122, inches, of, snow, fell, at, rainier, paradise, ranger, station, in, this, state]       |[winter, 1971-72, record, 1122, inches, snow, fell, rainier, paradise, ranger, station, state]               |[winter, 1971-72, record, 1122, inch, snow, fell, rainier, paradis, ranger, station, state]          |\n",
      "|2004-12-31|Crate & Barrel       |THE COMPANY LINE               |'This housewares store was named for the packaging its merchandise came in & was first displayed on'                    |Jeopardy!|4680       |$400 |This housewares store was named for the packaging its merchandise came in  was first displayed on               |[this, housewares, store, was, named, for, the, packaging, its, merchandise, came, in, , was, first, displayed, on]                    |[housewares, store, named, packaging, merchandise, came, , first, displayed]                                 |[housewar, store, name, packag, merchandis, came, , first, display]                                  |\n",
      "|2004-12-31|Jackie Gleason       |EPITAPHS & TRIBUTES            |'\"And away we go\"'                                                                                                      |Jeopardy!|4680       |$400 |\"And away we go\"                                                                                                |[\"and, away, we, go\"]                                                                                                                  |[\"and, away, go\"]                                                                                            |[\"and, away, go\"]                                                                                    |\n",
      "|2004-12-31|the cud              |3-LETTER WORDS                 |'Cows regurgitate this from the first stomach to the mouth & chew it again'                                             |Jeopardy!|4680       |$400 |Cows regurgitate this from the first stomach to the mouth  chew it again                                        |[cows, regurgitate, this, from, the, first, stomach, to, the, mouth, , chew, it, again]                                                |[cows, regurgitate, first, stomach, mouth, , chew]                                                           |[cow, regurgit, first, stomach, mouth, , chew]                                                       |\n",
      "|2004-12-31|Ceylon (or Sri Lanka)|HISTORY                        |'In 1000 Rajaraja I of the Cholas battled to take this Indian Ocean island now known for its tea'                       |Jeopardy!|4680       |$600 |In 1000 Rajaraja I of the Cholas battled to take this Indian Ocean island now known for its tea                 |[in, 1000, rajaraja, i, of, the, cholas, battled, to, take, this, indian, ocean, island, now, known, for, its, tea]                    |[1000, rajaraja, cholas, battled, take, indian, ocean, island, known, tea]                                   |[1000, rajaraja, chola, battl, take, indian, ocean, island, known, tea]                              |\n",
      "|2004-12-31|Jim Brown            |ESPN's TOP 10 ALL-TIME ATHLETES|'No. 1: Lettered in hoops, football & lacrosse at Syracuse & if you think he couldn't act, ask his 11 \"unclean\" buddies'|Jeopardy!|4680       |$600 |No. 1 Lettered in hoops football  lacrosse at Syracuse  if you think he couldnt act ask his 11 \"unclean\" buddies|[no., 1, lettered, in, hoops, football, , lacrosse, at, syracuse, , if, you, think, he, couldnt, act, ask, his, 11, \"unclean\", buddies]|[no., 1, lettered, hoops, football, , lacrosse, syracuse, , think, couldnt, act, ask, 11, \"unclean\", buddies]|[no., 1, letter, hoop, footbal, , lacross, syracus, , think, couldnt, act, ask, 11, \"unclean\", buddi]|\n",
      "|2004-12-31|the UV index         |EVERYBODY TALKS ABOUT IT...    |'On June 28, 1994 the nat'l weather service began issuing this index that rates the intensity of the sun's radiation'   |Jeopardy!|4680       |$600 |On June 28 1994 the natl weather service began issuing this index that rates the intensity of the suns radiation|[on, june, 28, 1994, the, natl, weather, service, began, issuing, this, index, that, rates, the, intensity, of, the, suns, radiation]  |[june, 28, 1994, natl, weather, service, began, issuing, index, rates, intensity, suns, radiation]           |[june, 28, 1994, natl, weather, servic, began, issu, index, rate, intens, sun, radiat]               |\n",
      "|2004-12-31|Bulova               |THE COMPANY LINE               |'This company's Accutron watch, introduced in 1960, had a guarantee of accuracy to within one minute a  month'          |Jeopardy!|4680       |$600 |This companys Accutron watch introduced in 1960 had a guarantee of accuracy to within one minute a  month       |[this, companys, accutron, watch, introduced, in, 1960, had, a, guarantee, of, accuracy, to, within, one, minute, a, , month]          |[companys, accutron, watch, introduced, 1960, guarantee, accuracy, within, one, minute, , month]             |[compani, accutron, watch, introduc, 1960, guarante, accuraci, within, one, minut, , month]          |\n",
      "|2004-12-31|Jesse James          |EPITAPHS & TRIBUTES            |'Outlaw: \"Murdered by a traitor and a coward whose name is not worthy to appear here\"'                                  |Jeopardy!|4680       |$600 |Outlaw \"Murdered by a traitor and a coward whose name is not worthy to appear here\"                             |[outlaw, \"murdered, by, a, traitor, and, a, coward, whose, name, is, not, worthy, to, appear, here\"]                                   |[outlaw, \"murdered, traitor, coward, whose, name, worthy, appear, here\"]                                     |[outlaw, \"murder, traitor, coward, whose, name, worthi, appear, here\"]                               |\n",
      "|2004-12-31|imp                  |3-LETTER WORDS                 |'A small demon, or a mischievous child (who might be a little demon!)'                                                  |Jeopardy!|4680       |$600 |A small demon or a mischievous child who might be a little demon                                                |[a, small, demon, or, a, mischievous, child, who, might, be, a, little, demon]                                                         |[small, demon, mischievous, child, might, little, demon]                                                     |[small, demon, mischiev, child, might, littl, demon]                                                 |\n",
      "|2004-12-31|the International    |HISTORY                        |'Karl led the first of these Marxist organizational efforts; the second one began in 1889'                              |Jeopardy!|4680       |$800 |Karl led the first of these Marxist organizational efforts the second one began in 1889                         |[karl, led, the, first, of, these, marxist, organizational, efforts, the, second, one, began, in, 1889]                                |[karl, led, first, marxist, organizational, efforts, second, one, began, 1889]                               |[karl, led, first, marxist, organiz, effort, second, one, began, 1889]                               |\n",
      "|2004-12-31|(Lou) Gehrig         |ESPN's TOP 10 ALL-TIME ATHLETES|'No. 10: FB/LB for Columbia U. in the 1920s; MVP for the Yankees in '27 & '36; \"Gibraltar in Cleats\"'                   |Jeopardy!|4680       |$800 |No. 10 FB/LB for Columbia U. in the 1920s MVP for the Yankees in 27  36 \"Gibraltar in Cleats\"                   |[no., 10, fb/lb, for, columbia, u., in, the, 1920s, mvp, for, the, yankees, in, 27, , 36, \"gibraltar, in, cleats\"]                     |[no., 10, fb/lb, columbia, u., 1920s, mvp, yankees, 27, , 36, \"gibraltar, cleats\"]                           |[no., 10, fb/lb, columbia, u., 1920, mvp, yanke, 27, , 36, \"gibraltar, cleats\"]                      |\n",
      "+----------+---------------------+-------------------------------+------------------------------------------------------------------------------------------------------------------------+---------+-----------+-----+----------------------------------------------------------------------------------------------------------------+---------------------------------------------------------------------------------------------------------------------------------------+-------------------------------------------------------------------------------------------------------------+-----------------------------------------------------------------------------------------------------+\n",
      "only showing top 20 rows\n",
      "\n"
     ]
    }
   ],
   "source": [
    "#jeopardyStemmed = jeopardyStopRemoved.withColumn(\"stemmed\", stemmer_udf(\"filtered\"))\n",
    "#jeopardyStemmed.cache()"
   ]
  },
  {
   "cell_type": "code",
   "execution_count": 15,
   "metadata": {},
   "outputs": [
    {
     "data": {
      "text/plain": [
       "DataFrame[air_date: string, answer: string, category: string, question: string, round: string, show_number: string, value: string, stripped: string, words: array<string>, filtered: array<string>, stemmed: array<string>]"
      ]
     },
     "execution_count": 15,
     "metadata": {},
     "output_type": "execute_result"
    }
   ],
   "source": [
    "#stemming words in modified dataset\n",
    "jeo_fStemmed = jeo_fStopRemoved.withColumn(\"stemmed\", stemmer_udf(\"filtered\"))\n",
    "jeo_fStemmed.cache()"
   ]
  },
  {
   "cell_type": "code",
   "execution_count": 37,
   "metadata": {},
   "outputs": [
    {
     "data": {
      "text/plain": [
       "DataFrame[air_date: string, answer: string, category: string, question: string, round: string, show_number: string, value: string, stripped: string, words: array<string>, filtered: array<string>, stemmed: array<string>, rawFeatures: vector, features: vector]"
      ]
     },
     "execution_count": 37,
     "metadata": {},
     "output_type": "execute_result"
    }
   ],
   "source": [
    "hashingTF = HashingTF(inputCol=\"stemmed\", outputCol=\"rawFeatures\", numFeatures=50000)\n",
    "featurizedData = hashingTF.transform(jeo_fStemmed)\n",
    "idf = IDF(inputCol=\"rawFeatures\", outputCol=\"features\")\n",
    "idfModel = idf.fit(featurizedData)\n",
    "rescaledData = idfModel.transform(featurizedData)\n",
    "rescaledData.cache()\n"
   ]
  },
  {
   "cell_type": "code",
   "execution_count": 38,
   "metadata": {},
   "outputs": [
    {
     "data": {
      "text/plain": [
       "DataFrame[air_date: string, answer: string, category: string, question: string, round: string, show_number: string, value: string, stripped: string, words: array<string>, filtered: array<string>, stemmed: array<string>, rawFeatures: vector, features: vector, prediction: int]"
      ]
     },
     "execution_count": 38,
     "metadata": {},
     "output_type": "execute_result"
    }
   ],
   "source": [
    "training,test = rescaledData.randomSplit([0.8,0.2], seed = 1) \n",
    "kmeans = KMeans(k=50, seed=1)\n",
    "clusters = kmeans.fit(training.select('features'))\n",
    "transformed = clusters.transform(test)\n",
    "transformed.cache()"
   ]
  },
  {
   "cell_type": "code",
   "execution_count": 39,
   "metadata": {},
   "outputs": [
    {
     "name": "stdout",
     "output_type": "stream",
     "text": [
      "+----------+-----+\n",
      "|prediction|count|\n",
      "+----------+-----+\n",
      "|        47|   29|\n",
      "|        46|    2|\n",
      "|        44|   12|\n",
      "|        39|    1|\n",
      "|        36|   11|\n",
      "|        22|  136|\n",
      "|        19|    1|\n",
      "|        18|   45|\n",
      "|        17|    4|\n",
      "|        16|   26|\n",
      "|        13|    1|\n",
      "|        12|   10|\n",
      "|        11|   30|\n",
      "|         8|  161|\n",
      "|         6|   54|\n",
      "|         4|    2|\n",
      "|         3|   68|\n",
      "|         0| 5285|\n",
      "+----------+-----+\n",
      "\n"
     ]
    }
   ],
   "source": [
    "#transformed.select('category','prediction').show(100)\n",
    "transformed.groupBy('prediction').count().sort(desc(\"prediction\")).show(50)"
   ]
  },
  {
   "cell_type": "code",
   "execution_count": 28,
   "metadata": {},
   "outputs": [
    {
     "data": {
      "text/plain": [
       "5878"
      ]
     },
     "execution_count": 28,
     "metadata": {},
     "output_type": "execute_result"
    }
   ],
   "source": [
    "test.count()"
   ]
  },
  {
   "cell_type": "code",
   "execution_count": 61,
   "metadata": {},
   "outputs": [
    {
     "name": "stdout",
     "output_type": "stream",
     "text": [
      "+--------------------+------------------------------------------------------------------------------------------------------------+\n",
      "|category            |question                                                                                                    |\n",
      "+--------------------+------------------------------------------------------------------------------------------------------------+\n",
      "|QUOTES              |'\"Reading is to the mind as\" this is \"to the body\"'                                                         |\n",
      "|10-LETTER WORDS     |'Mercy killing'                                                                                             |\n",
      "|WORD ORIGINS        |'From Old French \"manoeuvrer\" meaning \"to work by hand\", which was how this item was put into soil'         |\n",
      "|BIRDS               |'Falcons kill their prey by doing this'                                                                     |\n",
      "|PLAYWRIGHTS         |'His last play, \"What The Butler Saw\", was produced in 1969, 2 years after he was killed'                   |\n",
      "|AUTHORS             |'This author's home where he wrote \"To Have And Have Not\" is now a nat'l landmark in Key West, Fla.'        |\n",
      "|HISTORY             |'Marino Faliero, who was the doge of this, led a plot to kill the nobles & was executed in 1355'            |\n",
      "|FICTIONAL CHARACTERS|'In wooing her, Siegfried was standing in for someone else, & when she found out, she killed him'           |\n",
      "|POTPOURRI           |'These 2 words for conical deposits found in caverns come from the Greek \"stalassein\", meaning \"to drip\"'   |\n",
      "|HODGEPODGE          |'\"To Anacreon In Heaven\" is the original title of the music to which this is set'                           |\n",
      "|MYTHOLOGY           |'Ironically, Jason was killed when a piece of this ship fell & struck him on the head'                      |\n",
      "|WORD ORIGINS        |'This term for a copy or reproduction is from the Latin meaning \"to make similar\"'                          |\n",
      "|5-LETTER WORDS      |'This word for a decorative sticker comes partly from calquer, meaning \"to trace\"'                          |\n",
      "|THE MOVIES          |'The 1967 Sidney Potier film \"To Sir With Love\" was directed by this \"Shogun\" author'                       |\n",
      "|MUSIC               |'An instrumental piece usually for one musician, its name comes from Toccare, Italian for \"to touch\"'       |\n",
      "|POP MUSIC           |'While touring with The Beach Boys, she was cast in a major role in \"To Sir With Love\"'                     |\n",
      "|AUTHORS             |'In 1991 the U. of Alabama awarded this \"To Kill A Mockingbird\" author an honorary Doctor of Letters degree'|\n",
      "|NATURE              |'Eagles usually kill their prey with these body parts'                                                      |\n",
      "|AUTHORS             |'He dedicated his 1888 book \"Plain Tales From The Hills\" \"To the wittiest woman in India\"'                  |\n",
      "|AROUND THE WORLD    |'The Solidarity monument in this Polish port city honors workers killed during the 1970 shipyard strikes'   |\n",
      "+--------------------+------------------------------------------------------------------------------------------------------------+\n",
      "only showing top 20 rows\n",
      "\n"
     ]
    }
   ],
   "source": [
    "transformed.filter(transformed[\"prediction\"] == 3).select(\"category\",\"question\").show(truncate=False)"
   ]
  },
  {
   "cell_type": "code",
   "execution_count": 32,
   "metadata": {},
   "outputs": [],
   "source": [
    "#gmm = GaussianMixture().setK(10).setSeed(538009335)\n",
    "#model = gmm.fit(training.select(\"features\"))\n",
    "#model.gaussiansDF.show(truncate=False)"
   ]
  },
  {
   "cell_type": "code",
   "execution_count": 63,
   "metadata": {},
   "outputs": [
    {
     "name": "stdout",
     "output_type": "stream",
     "text": [
      "+-----+-----------------+\n",
      "|label|category         |\n",
      "+-----+-----------------+\n",
      "|8.0  |HISTORY          |\n",
      "|42.0 |3-LETTER WORDS   |\n",
      "|8.0  |HISTORY          |\n",
      "|42.0 |3-LETTER WORDS   |\n",
      "|8.0  |HISTORY          |\n",
      "|42.0 |3-LETTER WORDS   |\n",
      "|8.0  |HISTORY          |\n",
      "|42.0 |3-LETTER WORDS   |\n",
      "|8.0  |HISTORY          |\n",
      "|42.0 |3-LETTER WORDS   |\n",
      "|81.0 |IN THE DICTIONARY|\n",
      "|81.0 |IN THE DICTIONARY|\n",
      "|81.0 |IN THE DICTIONARY|\n",
      "|81.0 |IN THE DICTIONARY|\n",
      "|81.0 |IN THE DICTIONARY|\n",
      "|77.0 |TRAVEL & TOURISM |\n",
      "|77.0 |TRAVEL & TOURISM |\n",
      "|77.0 |TRAVEL & TOURISM |\n",
      "|77.0 |TRAVEL & TOURISM |\n",
      "|77.0 |TRAVEL & TOURISM |\n",
      "+-----+-----------------+\n",
      "only showing top 20 rows\n",
      "\n"
     ]
    }
   ],
   "source": [
    "indexer = StringIndexer(inputCol=\"category\", outputCol=\"label\")\n",
    "indexed = indexer.fit(rescaledData).transform(rescaledData)\n",
    "indexed.select(\"label\",\"category\").show(truncate=False)"
   ]
  },
  {
   "cell_type": "code",
   "execution_count": 64,
   "metadata": {},
   "outputs": [
    {
     "name": "stdout",
     "output_type": "stream",
     "text": [
      "+----------+----------+--------+--------------------+---------+-----------+-----+--------------------+--------------------+--------------------+--------------------+--------------------+--------------------+-----+\n",
      "|  air_date|    answer|category|            question|    round|show_number|value|            stripped|               words|            filtered|             stemmed|         rawFeatures|            features|label|\n",
      "+----------+----------+--------+--------------------+---------+-----------+-----+--------------------+--------------------+--------------------+--------------------+--------------------+--------------------+-----+\n",
      "|2004-12-31|Copernicus| HISTORY|'For the last 8 y...|Jeopardy!|       4680| $200|For the last 8 ye...|[for, the, last, ...|[last, 8, years, ...|[last, 8, year, l...|(50000,[7848,8230...|(50000,[7848,8230...|  8.0|\n",
      "+----------+----------+--------+--------------------+---------+-----------+-----+--------------------+--------------------+--------------------+--------------------+--------------------+--------------------+-----+\n",
      "only showing top 1 row\n",
      "\n"
     ]
    }
   ],
   "source": [
    "indexed.show(1)"
   ]
  },
  {
   "cell_type": "code",
   "execution_count": 66,
   "metadata": {},
   "outputs": [],
   "source": [
    "training,test = indexed.randomSplit([0.8,0.2], seed = 1) "
   ]
  },
  {
   "cell_type": "code",
   "execution_count": null,
   "metadata": {},
   "outputs": [],
   "source": [
    "lr = LogisticRegression(featuresCol = 'features', labelCol = 'label', maxIter=10, regParam=0.3, elasticNetParam=0.8)\n",
    "lrModel = lr.fit(training)"
   ]
  }
 ],
 "metadata": {
  "kernelspec": {
   "display_name": "Python 3",
   "language": "python",
   "name": "python3"
  },
  "language_info": {
   "codemirror_mode": {
    "name": "ipython",
    "version": 3
   },
   "file_extension": ".py",
   "mimetype": "text/x-python",
   "name": "python",
   "nbconvert_exporter": "python",
   "pygments_lexer": "ipython3",
   "version": "3.6.8"
  }
 },
 "nbformat": 4,
 "nbformat_minor": 2
}
